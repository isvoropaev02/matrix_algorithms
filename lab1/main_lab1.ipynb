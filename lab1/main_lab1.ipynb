{
 "cells": [
  {
   "cell_type": "code",
   "execution_count": 12,
   "metadata": {},
   "outputs": [],
   "source": [
    "import numpy as np\n",
    "import numba as nb\n",
    "import matplotlib.pyplot as plt\n",
    "import timeit\n",
    "%matplotlib inline"
   ]
  },
  {
   "cell_type": "markdown",
   "metadata": {},
   "source": [
    "## Мои вопросы.\n",
    "\n",
    "1. Как понять насколько используется процессор. Мы можем измерить время выполнения. Тоже самое про память.\n",
    "1. Модель использования вычислительных ресурсов. Это типо как линия регрессии в мат статистике? Есть выходной набор времени выполнения программы, хотим узнать какая зависимость от m_sz, n_sz, k_sz.\n",
    "1. Как искать размеры кэшей?"
   ]
  },
  {
   "cell_type": "markdown",
   "metadata": {},
   "source": [
    "## Задание 2"
   ]
  },
  {
   "cell_type": "markdown",
   "metadata": {},
   "source": [
    "Реализуйте произведение матриц $A\\in Mat(N\\times K)$, $B\\in Mat(K\\times M)$ согласно определению\n",
    "$$\n",
    "C_{n,m}=\\sum_{k=1}^K A_{n,k}B_{k,m}.\n",
    "$$\n",
    "Сравните быстродействие реализаций на основе numpy.sum, с помощью numba и стандартный метод numpy.dot.\n",
    "Насколько полно используется процессор? \n",
    "Сколько используется памяти?"
   ]
  },
  {
   "cell_type": "code",
   "execution_count": null,
   "metadata": {},
   "outputs": [],
   "source": [
    "def no_nb_matmul(in_mtrx1: np.ndarray, in_mtrx2: np.ndarray) -> np.ndarray:\n",
    "    num_rows1, num_cols1 = in_mtrx1.shape\n",
    "    num_cols2 = in_mtrx2.shape[1]\n",
    "    # num_rows2, num_cols2 = in_mtrx2.shape\n",
    "    # assert (num_cols1 == num_rows2, \"Incorrect input matrices sizes\")\n",
    "    out_mtrx = np.zeros(shape=(num_rows1, num_cols2), dtype=np.float64)\n",
    "    for n in range(num_rows1):\n",
    "        for m in range(num_cols2):\n",
    "            for k in range(num_cols1):\n",
    "                out_mtrx[n, m] += in_mtrx1[n, k]*in_mtrx2[k, m]\n",
    "    return out_mtrx\n",
    "\n",
    "@nb.njit('float64[:,:](float64[:,:],float64[:,:])', parallel = False) # 2D-arrays\n",
    "def nb_matmul(in_mtrx1: np.ndarray, in_mtrx2: np.ndarray) -> np.ndarray:\n",
    "    num_rows1, num_cols1 = in_mtrx1.shape\n",
    "    num_cols2 = in_mtrx2.shape[1]\n",
    "    # num_rows2, num_cols2 = in_mtrx2.shape\n",
    "    # assert (num_cols1 == num_rows2, \"Incorrect input matrices sizes\")\n",
    "    out_mtrx = np.zeros(shape=(num_rows1, num_cols2), dtype=np.float64)\n",
    "    for n in range(num_rows1):\n",
    "        for m in range(num_cols2):\n",
    "            for k in range(num_cols1):\n",
    "                out_mtrx[n, m] += in_mtrx1[n, k]*in_mtrx2[k, m]\n",
    "    return out_mtrx\n",
    "\n",
    "def sum_matmul(in_mtrx1: np.ndarray, in_mtrx2: np.ndarray) -> np.ndarray:\n",
    "    num_rows1, num_cols1 = in_mtrx1.shape\n",
    "    num_cols2 = in_mtrx2.shape[1]\n",
    "    out_mtrx = np.empty(shape=(num_rows1, num_cols2), dtype=np.float64)\n",
    "    for n in range(num_rows1):\n",
    "        for m in range(num_cols2):\n",
    "            out_mtrx[n, m] = np.sum(in_mtrx1[n, :]*in_mtrx2[:, m])\n",
    "    return out_mtrx"
   ]
  },
  {
   "cell_type": "code",
   "execution_count": 14,
   "metadata": {},
   "outputs": [
    {
     "name": "stdout",
     "output_type": "stream",
     "text": [
      "[ 1  6 15]\n",
      "[ 1  6 15]\n"
     ]
    }
   ],
   "source": [
    "a = np.array([[1, 2, 3], [4, 5, 6]])\n",
    "b = np.array([[1, 2], [3, 4], [5, 6]])\n",
    "print(np.multiply(a[0,:], b[:,0]))\n",
    "print(a[0,:]*b[:,0])"
   ]
  },
  {
   "cell_type": "code",
   "execution_count": 48,
   "metadata": {},
   "outputs": [],
   "source": [
    "# generate input data\n",
    "np.random.seed(0)\n",
    "num_repetitions = 5\n",
    "\n",
    "num_rows1 = 10\n",
    "num_cols2 = 10\n",
    "num_cols1 = 10000\n",
    "\n",
    "mtrx1 = np.random.random(size=(num_rows1, num_cols1))\n",
    "mtrx2 = np.random.random(size=(num_cols1, num_cols2))"
   ]
  },
  {
   "cell_type": "code",
   "execution_count": 49,
   "metadata": {},
   "outputs": [
    {
     "name": "stdout",
     "output_type": "stream",
     "text": [
      "Numba mean time: 0.009821439976803958 sec\n",
      "Numpy mean time: 0.0016537800431251526 sec\n",
      "Sum mean time: 0.01757897997740656 sec\n"
     ]
    }
   ],
   "source": [
    "# times_no_numba = timeit.repeat(stmt='my_matmul(mtrx1, mtrx2)', globals={\"my_matmul\": no_nb_matmul, \"mtrx1\": mtrx1, \"mtrx2\": mtrx2},\n",
    "#                             repeat=num_repetitions, number=10)\n",
    "# print(f\"No Numba mean time: {np.mean(times_no_numba)} sec\")\n",
    "times_numba = timeit.repeat(stmt='my_matmul(mtrx1, mtrx2)', globals={\"my_matmul\": nb_matmul, \"mtrx1\": mtrx1, \"mtrx2\": mtrx2},\n",
    "                            repeat=num_repetitions, number=10)\n",
    "print(f\"Numba mean time: {np.mean(times_numba)} sec\")\n",
    "times_numpy = timeit.repeat(stmt='numpy_matmul(mtrx1, mtrx2)', globals={\"numpy_matmul\": np.dot, \"mtrx1\": mtrx1, \"mtrx2\": mtrx2},\n",
    "                            repeat=num_repetitions, number=10)\n",
    "print(f\"Numpy mean time: {np.mean(times_numpy)} sec\")\n",
    "times_sum = timeit.repeat(stmt='sum_matmul(mtrx1, mtrx2)', globals={\"sum_matmul\": sum_matmul, \"mtrx1\": mtrx1, \"mtrx2\": mtrx2},\n",
    "                            repeat=num_repetitions, number=10)\n",
    "print(f\"Sum mean time: {np.mean(times_sum)} sec\")"
   ]
  },
  {
   "cell_type": "markdown",
   "metadata": {},
   "source": [
    "## Задание 3"
   ]
  },
  {
   "cell_type": "markdown",
   "metadata": {},
   "source": [
    "## Задание 4"
   ]
  },
  {
   "cell_type": "markdown",
   "metadata": {},
   "source": [
    "В простейшем алгоритме произведения матриц используются три цикла: перебирающие элементы $n$ и $m$  матрицы $C$\n",
    "и суммирующие по $k$. \n",
    "Сравните время перемножения матриц в зависимости от порядка циклов.\n",
    "Оцените объем кэшей разных уровней, проводя эксперименты для матриц разного размера."
   ]
  },
  {
   "cell_type": "code",
   "execution_count": 50,
   "metadata": {},
   "outputs": [],
   "source": [
    "@nb.njit('float64[:,:](float64[:,:],float64[:,:])', parallel = False) # 2D-arrays\n",
    "def nb_matmul_nmk(in_mtrx1: np.ndarray, in_mtrx2: np.ndarray) -> np.ndarray:\n",
    "    num_rows1, num_cols1 = in_mtrx1.shape\n",
    "    num_cols2 = in_mtrx2.shape[1]\n",
    "    # num_rows2, num_cols2 = in_mtrx2.shape\n",
    "    # assert (num_cols1 == num_rows2, \"Incorrect input matrices sizes\")\n",
    "    out_mtrx = np.zeros(shape=(num_rows1, num_cols2), dtype=np.float64)\n",
    "    for n in range(num_rows1):\n",
    "        for m in range(num_cols2):\n",
    "            for k in range(num_cols1):\n",
    "                out_mtrx[n, m] += in_mtrx1[n, k]*in_mtrx2[k, m]\n",
    "    return out_mtrx\n",
    "\n",
    "@nb.njit('float64[:,:](float64[:,:],float64[:,:])', parallel = False) # 2D-arrays\n",
    "def nb_matmul_nkm(in_mtrx1: np.ndarray, in_mtrx2: np.ndarray) -> np.ndarray:\n",
    "    num_rows1, num_cols1 = in_mtrx1.shape\n",
    "    num_cols2 = in_mtrx2.shape[1]\n",
    "    # num_rows2, num_cols2 = in_mtrx2.shape\n",
    "    # assert (num_cols1 == num_rows2, \"Incorrect input matrices sizes\")\n",
    "    out_mtrx = np.zeros(shape=(num_rows1, num_cols2), dtype=np.float64)\n",
    "    for n in range(num_rows1):\n",
    "        for k in range(num_cols1):\n",
    "            for m in range(num_cols2):\n",
    "                out_mtrx[n, m] += in_mtrx1[n, k]*in_mtrx2[k, m]\n",
    "    return out_mtrx\n",
    "\n",
    "@nb.njit('float64[:,:](float64[:,:],float64[:,:])', parallel = False) # 2D-arrays\n",
    "def nb_matmul_knm(in_mtrx1: np.ndarray, in_mtrx2: np.ndarray) -> np.ndarray:\n",
    "    num_rows1, num_cols1 = in_mtrx1.shape\n",
    "    num_cols2 = in_mtrx2.shape[1]\n",
    "    # num_rows2, num_cols2 = in_mtrx2.shape\n",
    "    # assert (num_cols1 == num_rows2, \"Incorrect input matrices sizes\")\n",
    "    out_mtrx = np.zeros(shape=(num_rows1, num_cols2), dtype=np.float64)\n",
    "    for k in range(num_cols1):\n",
    "        for n in range(num_rows1):\n",
    "            for m in range(num_cols2):\n",
    "                out_mtrx[n, m] += in_mtrx1[n, k]*in_mtrx2[k, m]\n",
    "    return out_mtrx"
   ]
  },
  {
   "cell_type": "markdown",
   "metadata": {},
   "source": [
    "## Задание 5"
   ]
  },
  {
   "cell_type": "code",
   "execution_count": null,
   "metadata": {},
   "outputs": [],
   "source": [
    "@nb.njit('float64[:,:](float64[:,:],float64[:,:])', parallel = True, nogil = False) # 2D-arrays\n",
    "def nb_matmul_parallel(in_mtrx1: np.ndarray, in_mtrx2: np.ndarray) -> np.ndarray:\n",
    "    num_rows1, num_cols1 = in_mtrx1.shape\n",
    "    num_cols2 = in_mtrx2.shape[1]\n",
    "    # num_rows2, num_cols2 = in_mtrx2.shape\n",
    "    # assert (num_cols1 == num_rows2, \"Incorrect input matrices sizes\")\n",
    "    out_mtrx = np.zeros(shape=(num_rows1, num_cols2), dtype=np.float64)\n",
    "    for n in nb.prange(num_rows1):\n",
    "        for m in range(num_cols2):\n",
    "            for k in range(num_cols1):\n",
    "                out_mtrx[n, m] += in_mtrx1[n, k]*in_mtrx2[k, m]\n",
    "    return out_mtrx"
   ]
  },
  {
   "cell_type": "markdown",
   "metadata": {},
   "source": [
    "## Задания."
   ]
  },
  {
   "cell_type": "markdown",
   "metadata": {},
   "source": [
    "1. Изучите реализацию многомерных массивов numpy.ndarray и работу с ними в numba.\n",
    "Посмотрите ноутбук [FastPython.](../FastPython.ipynb) \n",
    "\n",
    "2. Реализуйте произведение матриц $A\\in Mat(N\\times K)$, $B\\in Mat(K\\times M)$ согласно определению\n",
    "$$\n",
    "C_{n,m}=\\sum_{k=1}^K A_{n,k}B_{k,m}.\n",
    "$$\n",
    "Сравните быстродействие реализаций на основе numpy.sum, с помощью numba и стандартный метод numpy.dot.\n",
    "Насколько полно используется процессор? \n",
    "Сколько используется памяти?\n",
    "\n",
    "3. Составьте модель использования вычислительных ресурсов функцией на основе numba.jit из предыдущего пункта.\n",
    "Размеры матриц должны быть параметрами модели.\n",
    "Проведите вычислительные эксперименты, чтобы подобрать параметры модели.\n",
    "Экстраполируйте результат на большие матрицы, сделайте экспериментальную проверку.\n",
    "\n",
    "4. В простейшем алгоритме произведения матриц используются три цикла: перебирающие элементы $n$ и $m$  матрицы $C$\n",
    "и суммирующие по $k$. \n",
    "Сравните время перемножения матриц в зависимости от порядка циклов.\n",
    "Оцените объем кэшей разных уровней, проводя эксперименты для матриц разного размера.\n",
    "\n",
    "5. Обновите функцию для перемножения матриц, используя несколько потоков с помощью numba.prange.\n",
    "Обновите модель использования вычислительных ресурсов, принимая во внимание число потоков.\n",
    "Оцените параметры модели из эксперимента.\n",
    "Какое [параллельное ускорение](https://en.wikipedia.org/wiki/Amdahl%27s_law) вы получили?\n",
    "\n",
    "6. Сможете ли вы реализовать реализовать на С более быстрый вариант перемножения матриц, чем на numba?\n",
    "\n",
    "7. Реализуйте быстрое произведение матриц, например, используйте [алгоритм Штрассена](https://en.wikipedia.org/wiki/Strassen_algorithm).\n",
    "Оцените, на матрицах какого размера быстрое произведение матриц быстрее, чем стандартная реализация.\n",
    "Какой из методов дает меньшую погрешность вычислений?\n"
   ]
  },
  {
   "cell_type": "markdown",
   "metadata": {},
   "source": [
    "# Дополнительные задания"
   ]
  },
  {
   "cell_type": "markdown",
   "metadata": {},
   "source": [
    "1. Реализуйте вычисление матрицы дискретизованного конечными разностями оператора Лапласа:\n",
    "$$\n",
    "Lf_{n,k}=4f_{n,k}-f_{n+1,k}-f_{n-1,k}-f_{n,k+1}-f_{n,k-1}.\n",
    "$$\n",
    "\n",
    "Функция $f$ задана на квадратной решетке своими значениями в узлах $f_{n,k}$, $n=0\\ldots N$, $k=0\\ldots K$.\n",
    "Мы будем предполагать периодические граничные условия, в этом случае арифметические операции над индексом $n$ выполняются по модулю $N$, а по индексу $k$ по модулю $K$.\n",
    "Хотя значения функции и хранятся в двухмерном массиве, с точки зрения матричных вычислений значения функции $f$ в узлах образуют вектор, а оператор $L$ действует на него умножением на матрицу.\n",
    "Если нас смущает двойной индекс $(n,k)$ у $f$, то мы можем держать в голове, что это просто удобное обозначение для одного числа $n*K+k$, показывающего, в какой ячейке памяти хранится коэффициент вектора.\n",
    "Оператор $L$ может быть задан своей матрицей:\n",
    "$$\n",
    "Lf_{n,k}=\\sum_{n',k'}L_{n,k,n',k'} f_{n',k'},\n",
    "$$\n",
    "где $(n,k)$ - номер строки матрицы, а $(n',k')$ - номер столбца. \n",
    "Двойные индексы можно свернуть снова в обычные числа, тогда матрица будем иметь два индекса (строки и столбец), как нам более привычно. \n",
    "Однако, использование двойных индексов позволяет нам записать матрицу в очень простом виде:\n",
    "$$\n",
    "L_{n,k,n',k'}=\n",
    "\\begin{cases}\n",
    "4, & n=n'\\text{ и }k=k',\\\\\n",
    "-1, & n=n'\\pm 1\\text{ и }k=k'\\text{ или }n=n'\\text{ и }k=k'\\pm1,\\\\\n",
    "0, & \\text{в остальных случаях}. \n",
    "\\end{cases}\n",
    "$$\n",
    "\n",
    "2. Матрица $L$ [разреженная](https://ru.wikipedia.org/wiki/%D0%A0%D0%B0%D0%B7%D1%80%D0%B5%D0%B6%D0%B5%D0%BD%D0%BD%D0%B0%D1%8F_%D0%BC%D0%B0%D1%82%D1%80%D0%B8%D1%86%D0%B0), т.е. большинство ее элементов равно нулю. \n",
    "Сохраните матрицу $L$ в виде разреженной матрицы из пакета [scipy.sparse](https://docs.scipy.org/doc/scipy/reference/sparse.html).\n",
    "Какой способ хранения разреженной матрицы подходит лучше всего для матрицы оператора Лапласа?\n",
    "Какими преимуществами обладает представление матрицы в разреженном виде?\n",
    "\n",
    "3. Выше приведена формула для вычисления матрицы $L$ на векторах $f$, которая может быть реализована в виде алгоритма более быстрого, чем умножение на произвольню матрицу. Реализуйте функцию, которая будет вычислять произведение $L$ на $f$ без явного использования матрицы $L$. Воспользуйтесь [numpy](https://numpy.org/), постарайтесь реализовать как можно более быстрый код. Сравните полученное быстродействие с максимальной производительностью процессора вашего компьютера, согласно спецификации. \n",
    "\n",
    "4. Перепишите функцию из предыдущего задания, используя [numba](https://numba.pydata.org/). Какое ускорение мы можем ожидать, за счет чего оно достигается? Реализуйте наиболее эффективный код, учитывая аппаратные особенности компьютера. Убедитесь, что производительность вашего кода выше, чем умножение на разреженную матрицу, полученную выше. Как близко вы подобрались к пиковой теоретической производительности вашего компьютера?"
   ]
  },
  {
   "cell_type": "markdown",
   "metadata": {},
   "source": [
    "# Литература"
   ]
  },
  {
   "cell_type": "markdown",
   "metadata": {},
   "source": [
    "1. Ван Лоун Чарльз Ф., Голуб Джин Х. Матричные вычисления. Глава 1.\n",
    "\n",
    "1. [NumPy](https://numpy.org/doc/stable/contents.html)\n",
    "\n",
    "1. [Numba: A High Performance Python Compiler.](https://numba.pydata.org/) [Performance Tips](https://numba.pydata.org/numba-doc/latest/user/performance-tips.html)\n",
    "\n",
    "1. [JAX: Autograd and XLA](https://github.com/google/jax)\n",
    "\n",
    "1. [xeus-cling: a Jupyter kernel for C++](https://github.com/jupyter-xeus/xeus-cling)\n",
    "\n",
    "1. [Minimal C kernel for Jupyter](https://github.com/brendan-rius/jupyter-c-kernel)\n",
    "\n",
    "1. Micha Gorelick, Ian Ozsvald.\n",
    "[High Performance Python](https://www.oreilly.com/library/view/high-performance-python/9781449361747/) \n",
    "\n",
    "1. [Performance Tips of NumPy ndarray](https://shihchinw.github.io/2019/03/performance-tips-of-numpy-ndarray.html)\n",
    "\n",
    "1. [Beating NumPy performance speed by extending Python with C](https://medium.com/analytics-vidhya/beating-numpy-performance-by-extending-python-with-c-c9b644ee2ca8)\n",
    "\n",
    "1. [Principles of Performance](https://llllllllll.github.io/principles-of-performance/index.html)"
   ]
  },
  {
   "cell_type": "code",
   "execution_count": null,
   "metadata": {},
   "outputs": [],
   "source": []
  }
 ],
 "metadata": {
  "kernelspec": {
   "display_name": "Python 3",
   "language": "python",
   "name": "python3"
  },
  "language_info": {
   "codemirror_mode": {
    "name": "ipython",
    "version": 3
   },
   "file_extension": ".py",
   "mimetype": "text/x-python",
   "name": "python",
   "nbconvert_exporter": "python",
   "pygments_lexer": "ipython3",
   "version": "3.12.7"
  }
 },
 "nbformat": 4,
 "nbformat_minor": 4
}
