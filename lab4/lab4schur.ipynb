{
 "cells": [
  {
   "cell_type": "markdown",
   "metadata": {},
   "source": [
    "# Разложение Шура\n",
    "\n",
    "Любую квадратную матрицу $A$ можно преобразованием $U$ подобия привести к верхнетреугольной матрице $R$,\n",
    "причем преобразование $U$ можно выбрать унитарным (ортогональным для вещественных матриц):\n",
    "$$A=URU^*,\\quad U^*AU=R,\\quad UU^*=U^*U=1,$$\n",
    "такое представление матрицы называется [разложением Шура](https://en.wikipedia.org/wiki/Schur_decomposition).\n",
    "Здесь и далее мы будем обозначать единичную матрицу подходящего размера через $1$,\n",
    "а сопряженную матрицу к $A$ через $A^*$.\n",
    "Элементы сопряженной матрицы получаются транспонирование матрицы с последующим комплексным сопряжением:\n",
    "$$\n",
    "A^*=\\bar A^T,\\quad (A^*)_{nk}=\\overline{A_{kn}}. \n",
    "$$ \n",
    "Столбцы матрицы преобразования $U$ называются векторами Шура."
   ]
  },
  {
   "cell_type": "markdown",
   "metadata": {},
   "source": [
    "## Задания.\n",
    "\n",
    "1. Какой смысл имеют диагональные элементы матрицы $R$?\n",
    "\n",
    "2. В каком случае вектора Шура оказываются собственными векторами?\n",
    "\n",
    "3. Покажите, что сумма квадратов абсолютных значений всех недиагональных элементов матрицы $R$ не зависит от выбора $U$ и определяется только матрицей $A$:\n",
    "$$ N = \\sum_{n}\\sum_{k>n} |R_{nk}|^2.$$\n",
    "Какой смысл вы можете придать этой сумме?"
   ]
  },
  {
   "cell_type": "markdown",
   "metadata": {},
   "source": [
    "Первый вектор Шура всегда является собственным, поэтому мы можем построить наивную процедуру\n",
    "вычисления разложения Шура, имея способ вычисления собственных чисел и векторов.\n",
    "Проще всего оказывается вычислить самое большое по модулю собственное значение матрицы (спектральный радиус),\n",
    "для этого можно воспользоваться [методом степеней](https://en.wikipedia.org/wiki/Power_iteration).\n",
    "Суть метода заключается в вычислении последовательности:\n",
    "$$e_{n+1}=\\frac{Ae_n}{\\|Ae_n\\|},$$\n",
    "которая при определенных условиях сходится к собственному вектору, отвечающему максимальному по модулю собственому значению $A$. "
   ]
  },
  {
   "cell_type": "markdown",
   "metadata": {},
   "source": [
    "## Задания.\n",
    "\n",
    "4. Предложите достаточные условия сходимости степенного метода.\n",
    "\n",
    "5. Реализуйте степенной метод. Для проверки результата воспользуйтесь функцией \n",
    "[scipy.linalg.norm(A, ord=2)](https://docs.scipy.org/doc/scipy/reference/generated/scipy.linalg.norm.html),\n",
    "которая на квадратной матрице $A$ возвращает ее спектральных радиус.\n",
    "\n",
    "6. Первый вектор Шура находится степенным методом, как можно найти второй вектор Шура? \n",
    "__Указание:__ Рассмотрите подматрицу $A_{2\\colon,2\\colon}$.\n",
    "\n",
    "7. Реализуйте функцию для построения разложения Шура с помощью степенного метода. В каких случаях алгоритм сойдется? В каких случаях сойдется к разложению Шура? С какой скоростью итерации сходятся в случае сходимости?\n",
    "\n",
    "8. Обобщите степенной метод так, чтобы одновременно вычислялось несколько собственных векторов. \n",
    "Реализуйте эту модификацию. Какие условия являются достаточными для сходимости вашего метода."
   ]
  },
  {
   "cell_type": "markdown",
   "metadata": {},
   "source": [
    "Задача вычисления собственных чисел может быть плохо обусловлена для матрицы общего вида. \n",
    "Наибольшую трудность представляют близкие собственные значения и вырожденные собственные значения. \n",
    "Проведите несколько экспериментов, используя библиотечную функцию для вычисления разложения Шура \n",
    "[scipy.linalg.schur](https://docs.scipy.org/doc/scipy/reference/generated/scipy.linalg.schur.html).\n"
   ]
  },
  {
   "cell_type": "markdown",
   "metadata": {},
   "source": [
    "## Задания.\n",
    "\n",
    "9. Предложите матрицу, у которой левый и правый собственные вектора для одного собственного значения почти ортогональны. Добавляя малое возмущение к матрице (можно воспользоваться [numpy.random.randn](https://numpy.org/doc/stable/reference/random/generated/numpy.random.randn.html)) и находя собственные значения для возмущенной матрицы через `scipy.linalg.schur` оцените число обусловленности для вычисления собственного числа. Сравните с теорией.\n",
    "\n",
    "10. Рассмотрите малое возмущение $\\epsilon$ для матрицы \n",
    "$$A=\\begin{pmatrix}1&a\\\\\\epsilon&1\\end{pmatrix},$$\n",
    "где $a$ - параметр. Насколько сильно возущение изменяет собственные значения?\n",
    "Собственные вектора (`scipy.linalg.eig`)?"
   ]
  },
  {
   "cell_type": "markdown",
   "metadata": {},
   "source": [
    "На практике для вычисления разложения Шура как правило используется [UR алгоритм](https://en.wikipedia.org/wiki/QR_algorithm) и его варианты. \n",
    "Мы ограничимся изучением этого метода только для симметричных матриц.\n",
    "\n",
    "Пусть матрица $A$ имеет только вещественные коэффициенты и симметрична, т.е. $A^T=A$.\n",
    "В этом случае матрица $R$ в разложение Шура для матрица $A$ оказывается диагональным, т.е. выполняется спектральное разложение.\n",
    "\n",
    "Перед выполнение QR алгоритма матрица $A$ приводится преобразованием подобия к более простому виду $A_0=VAV^T$,\n",
    "как правило к виду [матрицы Хессенберга](https://en.wikipedia.org/wiki/Hessenberg_matrix).\n",
    "Преобразование $V$ можно представить, например, в виде цепочки [вращений Гивенса](https://en.wikipedia.org/wiki/Givens_rotation).\n",
    "На одном шаге QR алгоритма строится QR разложение матрицы $A_n=Q_nR_n$,\n",
    "затем матрицы из разложения перемножаются в обратном порядке, формируя новый член последовательности:\n",
    "$A_{n+1}=R_nQ_n$.\n",
    "Все матрицы в последовательности подобны: $A_{n+1}=Q_n^TA_nQ_n$.\n",
    "Итерации повторяются до тех пор, пока матрица $A_n$ не станет достаточно треугольной.\n",
    "\n",
    "В наивном варианте QR алгоритм не всегда сходится, однако ситуацию можно исправить, добавив в сдвиги.\n",
    "На каждом шаге алгоритма будем строить QR разложение для $A_n-\\zeta_n=Q_nR_n$ с подходящим $\\zeta_n$.\n",
    "Следующий член последовательности определим так $A_{n+1}=R_nQ_n+\\zeta_n$.\n",
    "Последовательность $\\zeta_n$ выбирается так, чтобы $\\zeta_n$ сходилось к минимальному собственному числу,\n",
    "например, полагая $\\zeta_n$ равным элементу $R$ из последнего столбца и строки.\n",
    "В этому случае итерации почти всегда сходятся и дают кубическую скорость сходимости."
   ]
  },
  {
   "cell_type": "markdown",
   "metadata": {},
   "source": [
    "## Задания.\n",
    "\n",
    "11. Реализуйте QR алгоритм со сдвигами для симметричной матрицы $A$. \n",
    "Экспериментально проверьте скорость сходимости. \n",
    "Сравните со скорость сходимости степенного метода.\n",
    "\n",
    "12. **(повышенная сложность)** Реализуйте неявный QR алгоритм. Сравните его работу с работой явного метода.\n",
    "\n",
    "13. Предложите и реализуйте метод вычисления [сингулярного (SVD) разложения](https://en.wikipedia.org/wiki/Singular_value_decomposition), используя разложение Шура. Постарайтесь избежать вычисления матриц $AA^T$ и $A^TA$."
   ]
  },
  {
   "cell_type": "markdown",
   "metadata": {},
   "source": [
    "# Решения"
   ]
  },
  {
   "cell_type": "markdown",
   "metadata": {},
   "source": [
    "### Задание 1"
   ]
  },
  {
   "cell_type": "markdown",
   "metadata": {},
   "source": [
    "*Какой смысл имеют диагональные элементы матрицы $R$?*\n",
    "\n",
    "Диагональные элементы матрицы $R$ являются ее собственными числами, а также собственными числами исходной матрицы $A$. Покажем это (пишем характеристическое уравнение):\n",
    "\n",
    "$$0 = \\det (A-\\lambda I) = \\det(URU^H-\\lambda I) = \\det(URU^H-U\\lambda IU^H) = \\det(R-\\lambda I)$$\n",
    "\n",
    "Значит $spec(A)=spec(R)$\n",
    "\n",
    "Т.к. матрица $R$ - верхнетреугольная, то $\\det(R-\\lambda I)=\\prod\\limits_k(R_{kk}-\\lambda)=0$ - т.е. на диагонали матрицы $R$ находятся собственные числа матрицы $R$ (и соответственно $A$)."
   ]
  },
  {
   "cell_type": "markdown",
   "metadata": {},
   "source": [
    "### Задание 2"
   ]
  },
  {
   "cell_type": "markdown",
   "metadata": {},
   "source": [
    "*В каком случае вектора Шура оказываются собственными векторами?*\n",
    "\n",
    "Векторы Шура - столбцы матрицы $U$ ($u_i = U\\cdot e_i$), где $e_1=[1, 0, 0, ..., 0]^T, e_2=...$.\n",
    "\n",
    "**Заметим, что в общем случае:**\n",
    "\n",
    "- Первый вектор Шура всегда собственный, т.к. $Au_1=AUe_1=URU^HUe_1=URe_1=R_{11}Ue_1=R_{11}u_1$\n",
    "- Если над $k$-ым диагональным элементом в матрице $R$ стоят только нули, то вектор $u_k$ тоже собственный. Доказательство аналогичное предыдущему ($Au_k=R_{kk}u_k$).\n",
    "\n",
    "**Если матрица диагональная:**\n",
    "\n",
    "Тривиальный случай, на диагоналях сразу стояю все собственные числа. Разложение тривиально. Матрица $U=I$ и все векторы собственные.\n",
    "\n",
    "**Если матрица нормальная (оператор нормальный):**\n",
    "\n",
    "(1) $AA^H=U^HRU\\cdot(U^HRU)^H=U^HRUU^HR^HU=U^HRR^HU$\n",
    "\n",
    "(2) $A^HA=(U^HRU)^H\\cdot U^HRU=U^HR^HUU^HRU=U^HR^HRU$\n",
    "\n",
    "Выражения (1) и (2) должны быть равны --> $RR^H=R^HR$. Смотрим диагональный элемент каждой матрицы:\n",
    "\n",
    "$$(RR^H)_{ii}=\\sum\\limits_{k\\geq i} R_{ik}\\cdot R^*_{ik} = \\sum\\limits_{k \\leq i} R_{ki}\\cdot R^*_{ki} =(R^HR)_{ii}$$\n",
    "\n",
    "$$\\sum\\limits_{k\\geq i} |R_{ik}|^2 = \\sum\\limits_{k \\leq i} |R_{ki}|^2$$\n",
    "\n",
    "Расписываем сумму для $i=1$, с учетом того, что $R$ - **верхнетреугольная**:\n",
    "\n",
    "$$|R_{11}|^2+|R_{12}|^2+|R_{13}|^2+...=|R_{11}|^2$$\n",
    "\n",
    "Тогда, вычев правую часть из левой получится, что $|R_{12}|^2+|R_{13}|^2+...=0$, значит $\\forall k>1 R_{1k}=0$.\n",
    "\n",
    "Данную процедуру можно продолжить для $i=2, 3, ...$. Значит матрица $R$ - диагональна.\n",
    "\n",
    "Тогда из выкладки в задании 1 получается, что элементы матрицы $R$ - собственные числа. Каждый вектор Шура домножается на только одно собственное число. Значит векторы Шура в этом случае являются собственными. (Разложение совпадает со спектральным)"
   ]
  },
  {
   "cell_type": "markdown",
   "metadata": {},
   "source": [
    "### Задание 3"
   ]
  },
  {
   "cell_type": "markdown",
   "metadata": {},
   "source": [
    "*Покажите, что сумма квадратов абсолютных значений всех недиагональных элементов матрицы $R$ не зависит от выбора $U$ и определяется только матрицей $A$:*\n",
    "$$ N = \\sum_{i}\\sum_{k>i} |R_{ik}|^2.$$\n",
    "*Какой смысл вы можете придать этой сумме?*\n",
    "\n",
    "**Доказательство:**\n",
    "\n",
    "1. Пусть матрица $A$ имеет 2 разложения Шура: $A=V^HSV$ и $A=U^HRU$. Тогда можно записать равенство:\n",
    "\n",
    "$$SVU^H=VU^HR$$\n",
    "\n",
    "Обозначим за $W=VU^H$, тогда можно записать в виде $(W^HS^H)^H=WR$. Заметим, что $W$ - унитарное преобразование (как композиция унитарных).\n",
    "\n",
    "2. Еще заметим, что диагональные элементы матриц $R$ и $S$ совпадают, тк эти матрицы получены разложением Шура.\n",
    "\n",
    "3. Знаем, что унитарное преобразование не меняет норму вектора, значит (учитывая, что $R$ - верхнетреугольная, а $S^H$ - нижнетреугольная)\n",
    "\n",
    "$$\\forall i: \\sum_{k\\leq i} |R_{ki}|^2 = \\sum_{k} |(WR)_{ki}|^2$$\n",
    "\n",
    "$$\\forall i: \\sum_{k\\geq i} |S^H_{ki}|^2 = \\sum_{k} |(W^HS^H)_{ki}|^2$$\n",
    "\n",
    "Правые части данных выражений равны по пункту 1. Значит равны и левые.\n",
    "\n",
    "4. Теперь просуммируем равенство по всем $i$:\n",
    "\n",
    "$$\\sum_{i}\\sum_{k\\leq i} |R_{ki}|^2 = \\sum_{i}\\sum_{k\\geq i} |S^H_{ki}|^2$$\n",
    "\n",
    "Так как диагональные элементы матриц совпадают (пункт 2), то можно их убрать из суммы и элементы матрицы $S^H$ выразить через элементы матрицы $S$:\n",
    "\n",
    "$$\\sum_{i}\\sum_{k<i} |R_{ki}|^2 = \\sum_{i}\\sum_{k<i} |S_{ki}|^2$$\n",
    "\n",
    "Это и есть требуемое равенство с точностью до перестановки порядка суммирования.\n",
    "\n",
    "**Интерпретация данной величины:**\n",
    "\n",
    "$\\beta = \\sum_{i}\\sum_{k<i} |R_{ki}|^2$ в случае, когда исходная матрица нормальная будет равна 0. Тогда данную величину $\\beta$ можно назвать мерой отклонения исходной матрицы $A$ от нормальной."
   ]
  },
  {
   "cell_type": "markdown",
   "metadata": {},
   "source": [
    "### Задание 4"
   ]
  },
  {
   "cell_type": "markdown",
   "metadata": {},
   "source": [
    "*Предложите достаточные условия сходимости степенного метода.*\n",
    "\n",
    "**Note:** Сразу откинем из рассмотрения случай, когда спектр комплексный. В таком случае максимальному по модулю собственному числу будет соответствовать его сопряженное, которое тоже будет решением характеристического уравнения. Поэтому сходимости метода может и не быть.\n",
    "\n",
    "Если спектр матрицы вещественный, то можно предложить следующее утверждение:\n",
    "\n",
    "**Утв.** Метод степеней сходится для матрицы $A$ с вещественным спектром, если $\\exists \\lambda_1 \\in \\text{spec}(A): \\forall i = 2,...,N \\quad |\\lambda_1| > |\\lambda_i|$\n",
    "\n",
    "**Док-во:**\n",
    "\n",
    "0. Метод можно описать формулой: $x^{(n+1)}=\\frac{Ax^{(n)}}{\\|Ax^{(n)}\\|}$\n",
    "\n",
    "1. Пусть $\\{e_i\\}^N_{i=1}$ - ортонормированный собственный базис. Мы выбираем случайный вектор, который можно разложить по этому базису: $x^{(0)}=\\sum\\limits_{i=1}^N\\alpha_i e_i$.\n",
    "\n",
    "2. Смотрим что происходит на $n+1$ шаге:\n",
    "\n",
    "- $Ax^{(n)}=\\lambda_1^{n+1}\\alpha_1 e_1 + \\sum\\limits_{i=2}^N \\lambda_i^{n+1}\\alpha_i e_i$\n",
    "\n",
    "- $\\|Ax^{(n)}\\|=|\\lambda_1|^{n+1}\\sqrt{\\alpha_1^2 + \\sum\\limits_{i=2}^N\\alpha_i^2 |\\frac{\\lambda_i^{n+1}}{\\lambda_1^{n+1}}|^2}$\n",
    "\n",
    "3. Посмотрим отличие от искомого вектора $e_1$:\n",
    "\n",
    "$$\\|x^{(n+1)}-e_1\\|=\\left\\|\\dfrac{\\lambda_1^{n+1}\\alpha_1 e_1 + \\sum\\limits_{i=2}^N \\lambda_i^{n+1}\\alpha_i e_i}{|\\lambda_1|^{n+1}\\sqrt{\\alpha_1^2 + \\sum\\limits_{i=2}^N\\alpha_i^2 |\\frac{\\lambda_i^{n+1}}{\\lambda_1^{n+1}}|^2}} - e_1\\right\\| \\approx \\left\\|\\dfrac{\\lambda_1^{n+1}\\alpha_1 e_1 + \\sum\\limits_{i=2}^N \\lambda_i^{n+1}\\alpha_i e_i}{|\\lambda_1|^{n+1}|\\alpha_1|} - e_1\\right\\| =$$\n",
    "\n",
    "$$= \\left\\|\\text{sgn}(\\lambda_1^{n+1}\\alpha_1) e_1 + \\sum\\limits_{i=2}^N \\text{sgn}(\\lambda_i^{n+1}\\alpha_i)|\\frac{\\lambda_i^{n+1}}{\\lambda_1^{n+1}}|\\cdot|\\frac{\\alpha_i}{\\alpha_1}| e_i - e_1\\right\\|$$\n",
    "\n",
    "Нам не важно направление (знак) вектора $e_1$, который мы ищем, поэтому выберем его равным $\\text{sgn}(\\lambda_1^{n+1}\\alpha_1)$, тогда ошибка метода степеней получется:\n",
    "\n",
    "$$\\|x^{(n+1)}-e_1\\|=\\left\\|\\sum\\limits_{i=2}^N \\text{sgn}(\\lambda_i^{n+1}\\alpha_i)|\\frac{\\lambda_i^{n+1}}{\\lambda_1^{n+1}}|\\cdot|\\frac{\\alpha_i}{\\alpha_1}| e_i\\right\\| = O\\left(\\max_i\\left|\\frac{\\lambda_i}{\\lambda_1}\\right|^{n+1}\\right) \\rightarrow 0 \\quad (n \\rightarrow +\\infty)$$\n",
    "\n",
    "4. Значит метод будет сходиться к $e_1$ в этом случае."
   ]
  },
  {
   "cell_type": "markdown",
   "metadata": {},
   "source": [
    "### Задание 5"
   ]
  },
  {
   "cell_type": "markdown",
   "metadata": {},
   "source": [
    "*Реализуйте степенной метод. Для проверки результата воспользуйтесь функцией [scipy.linalg.norm(A, ord=2)](https://docs.scipy.org/doc/scipy/reference/generated/scipy.linalg.norm.html), которая на квадратной матрице $A$ возвращает ее спектральных радиус.*"
   ]
  },
  {
   "cell_type": "code",
   "execution_count": 1,
   "metadata": {},
   "outputs": [],
   "source": [
    "import numpy as np\n",
    "from scipy.linalg import norm, schur, qr\n",
    "from lab4_algorithms import*\n",
    "import matplotlib.pylab as plt\n",
    "%matplotlib inline"
   ]
  },
  {
   "cell_type": "code",
   "execution_count": 2,
   "metadata": {},
   "outputs": [
    {
     "name": "stdout",
     "output_type": "stream",
     "text": [
      "Power iteration: (0.9999999968831252, array([0.70710679, 0.70710677]))\n",
      "Scipy norm: 1.047871858499512\n",
      "Power iteration: (0.5, array([1.00000000e+00, 6.24980227e-09]))\n",
      "Scipy norm: 0.5\n"
     ]
    }
   ],
   "source": [
    "A = np.array([[0.5, 0.5], [0.2, 0.8]])\n",
    "B = np.array([[0.5, 0], [0, 0.1]])\n",
    "print(\"Power iteration:\", power_iteration(A))\n",
    "print(\"Scipy norm:\", norm(A, 2))\n",
    "print(\"Power iteration:\", power_iteration(B, 30))\n",
    "print(\"Scipy norm:\", norm(B, 2))"
   ]
  },
  {
   "cell_type": "code",
   "execution_count": 3,
   "metadata": {},
   "outputs": [
    {
     "name": "stdout",
     "output_type": "stream",
     "text": [
      "norm(A, 2)  :  1.5809147053318344\n",
      "eigenvalues :  [-1.06731753  1.36805255  0.49926498]\n",
      "ref eigvec  :  [ 0.82186978  0.48628486 -0.29674418]\n"
     ]
    }
   ],
   "source": [
    "A = np.array([[1, 0.5, -0.2], [0.3, 0.8, -0.1], [-0.5, -0.6, -1]])\n",
    "ref_eigval = norm(A, 2)\n",
    "tmp = np.linalg.eig(A)\n",
    "ref_eigvec = tmp.eigenvectors[:, np.argmax(np.abs(tmp.eigenvalues))]\n",
    "num_iter = np.linspace(10, 1000, 16, dtype=np.int32)\n",
    "print(\"norm(A, 2)  : \", ref_eigval)\n",
    "print(\"eigenvalues : \", tmp.eigenvalues)\n",
    "print(\"ref eigvec  : \", ref_eigvec)\n",
    "\n",
    "eigval_err = np.empty_like(num_iter, dtype=np.float64)\n",
    "eigvec_err = np.empty_like(num_iter, dtype=np.float64)\n",
    "for i in range(num_iter.shape[0]):\n",
    "    eigval, eigvec = power_iteration(A, max_iter=num_iter[i], tol=0)\n",
    "    eigval_err[i] = np.abs(ref_eigval-eigval)\n",
    "    eigvec_err[i] = np.mean(np.abs(ref_eigvec-eigvec))"
   ]
  },
  {
   "cell_type": "code",
   "execution_count": 4,
   "metadata": {},
   "outputs": [],
   "source": [
    "ref_convergence = (1.06731753 / 1.36805255)**num_iter"
   ]
  },
  {
   "cell_type": "code",
   "execution_count": 5,
   "metadata": {},
   "outputs": [
    {
     "data": {
      "image/png": "[encoded data removed]",
      "text/plain": [
       "<Figure size 1300x400 with 2 Axes>"
      ]
     },
     "metadata": {},
     "output_type": "display_data"
    }
   ],
   "source": [
    "fig1 = plt.figure(figsize=[13,4])\n",
    "\n",
    "ax_1 = fig1.add_subplot(121)\n",
    "ax_1.set_title('Ошибка в собственном числе')\n",
    "ax_1.scatter(num_iter, eigval_err)\n",
    "ax_1.set_xlabel('Количество итераций')\n",
    "ax_1.set_ylabel('Абс. ошибка')\n",
    "ax_1.grid()\n",
    "\n",
    "ax_2 = fig1.add_subplot(122)\n",
    "ax_2.set_title('Ошибка в собственном векторе')\n",
    "ax_2.plot(num_iter, ref_convergence, 'r--', label=r'converg. speed $|\\lambda_2/\\lambda_1|^n$')\n",
    "ax_2.scatter(num_iter, eigvec_err)\n",
    "ax_2.set_xlabel('Количество итераций')\n",
    "ax_2.set_ylabel('Средняя Абс. ошибка')\n",
    "ax_2.legend()\n",
    "ax_2.grid()\n",
    "\n",
    "plt.show()"
   ]
  },
  {
   "cell_type": "markdown",
   "metadata": {},
   "source": [
    "### Задание 6"
   ]
  },
  {
   "cell_type": "markdown",
   "metadata": {},
   "source": [
    "*Первый вектор Шура находится степенным методом, как можно найти второй вектор Шура? (Указание: Рассмотрите подматрицу $A_{2\\colon,2\\colon}$.)*"
   ]
  },
  {
   "cell_type": "markdown",
   "metadata": {},
   "source": [
    "**Идея:** \n",
    "- Найденный собственный вектор $e_1$ (он равен первому вектору Шура $u_1=e_1$) запишем в матрирцу $B=(u_1|(\\delta_{i2})|(\\delta_{i3})|...)$.\n",
    "- Затем выполним для нее QR-разложение матрицы $B$.\n",
    "- Рассмотрим матрицу Q. Ее первый столбец останется равным $e_1$, а остальные столбцы будут образовывать ортонормированный базис.\n",
    "- Применим к матрице A (исходной) преобразование: $Q^TAQ$ первый столбец будет содержать 1 в самом первом элементе и 0 в остальных элементах.\n",
    "- Рассмотрим подматрицу $Q^TAQ$[2:N, 2:N]. Найдем для нее собственный вектор методом степеней - $q_1$.\n",
    "- Находим собственный вектор в исходном базисе: $u_2=Q\\cdot [0 | q_1^T]^T$, который будет ортогонален $u_1$.\n",
    "\n",
    "Такой алгоритм можно продолжить иттерационно. Далее у нас будет матрица $B=(u_1|u_2|(\\delta_{i3})|...)$"
   ]
  },
  {
   "cell_type": "markdown",
   "metadata": {},
   "source": [
    "### Задание 7"
   ]
  },
  {
   "cell_type": "markdown",
   "metadata": {},
   "source": [
    "*Реализуйте функцию для построения разложения Шура с помощью степенного метода. В каких случаях алгоритм сойдется? В каких случаях сойдется к разложению Шура? С какой скоростью итерации сходятся в случае сходимости?*"
   ]
  },
  {
   "cell_type": "code",
   "execution_count": 7,
   "metadata": {},
   "outputs": [
    {
     "name": "stdout",
     "output_type": "stream",
     "text": [
      "U:\n",
      " [[-0.8171053  -0.52328663  0.24188845]\n",
      " [-0.54402721  0.56112253 -0.62383964]\n",
      " [-0.19071788  0.64133658  0.74317836]]\n",
      "R:\n",
      " [[ 4.85252353e+00 -4.99071663e-01 -4.48898025e-01]\n",
      " [ 4.79216597e-08  2.72651498e+00 -4.35221757e-01]\n",
      " [ 4.12932493e-16  1.42960402e-08  1.42096150e+00]]\n",
      "Check A = UTU*:\n",
      " [[-1.33226763e-15  1.11022302e-15  5.55111512e-16]\n",
      " [ 1.33226763e-15 -2.66453526e-15 -4.44089210e-16]\n",
      " [ 1.01512442e-15 -9.99200722e-16 -4.44089210e-16]]\n",
      "U:\n",
      " [[-0.44914143  0.65286248  0.54614281 -0.27160741]\n",
      " [-0.54614281  0.27160742 -0.44914143  0.65286248]\n",
      " [-0.54614281 -0.2716074  -0.44914144 -0.65286248]\n",
      " [-0.44914144 -0.65286248  0.54614281  0.27160741]]\n",
      "R:\n",
      " [[ 3.07580158e+00 -1.91578063e-08 -2.36216632e-16  2.37557597e-16]\n",
      " [-1.91578064e-08  8.20304487e-01  4.47716671e-09 -2.09763870e-17]\n",
      " [-1.95252586e-16  4.47716664e-09  9.89855068e-02 -4.61023884e-10]\n",
      " [ 1.00542807e-17  2.18036741e-17 -4.61023983e-10  4.90842999e-03]]\n",
      "Check B = UTU*:\n",
      " [[1.11022302e-15 6.66133815e-16 5.55111512e-16 3.33066907e-16]\n",
      " [9.99200722e-16 6.66133815e-16 7.77156117e-16 4.44089210e-16]\n",
      " [7.77156117e-16 4.44089210e-16 6.66133815e-16 4.44089210e-16]\n",
      " [4.44089210e-16 3.33066907e-16 5.55111512e-16 6.66133815e-16]]\n"
     ]
    }
   ],
   "source": [
    "'''some matrix'''\n",
    "A = np.array([[4, 1, 0.8],\n",
    "              [1, 3, 1], \n",
    "              [0, 1, 2]])\n",
    "\n",
    "U, R = schur_decomposition_power_method(A)\n",
    "print(\"U:\\n\", U)\n",
    "print(\"R:\\n\", R)\n",
    "print(\"Check A = UTU*:\\n\", U @ R @ U.T - A)\n",
    "\n",
    "'''normal matrix'''\n",
    "r = 0.3 # medium (0 - low, 0.3 - medium, 0.9 - high)\n",
    "B = np.array([[1, r**(1/9), r**(4/9), r],\n",
    "              [r**(1/9), 1, r**(1/9), r**(4/9)],\n",
    "              [r**(4/9), r**(1/9), 1, r**(1/9)],\n",
    "              [r, r**(4/9), r**(1/9), 1]])\n",
    "\n",
    "U, R = schur_decomposition_power_method(B)\n",
    "print(\"U:\\n\", U)\n",
    "print(\"R:\\n\", R)\n",
    "print(\"Check B = UTU*:\\n\", U @ R @ U.T - B)"
   ]
  },
  {
   "cell_type": "code",
   "execution_count": null,
   "metadata": {},
   "outputs": [
    {
     "name": "stdout",
     "output_type": "stream",
     "text": [
      "R_ref:\n",
      " [[ 3.07580158e+00 -4.82578387e-16 -8.84572089e-16  4.44215436e-16]\n",
      " [ 0.00000000e+00  8.20304487e-01 -8.18719537e-17  2.97386092e-16]\n",
      " [ 0.00000000e+00  0.00000000e+00  9.89855068e-02 -7.74558731e-17]\n",
      " [ 0.00000000e+00  0.00000000e+00  0.00000000e+00  4.90842999e-03]]\n",
      "R_my:\n",
      " [[ 3.07580158e+00 -1.91578063e-08 -2.36216632e-16  2.37557597e-16]\n",
      " [-1.91578064e-08  8.20304487e-01  4.47716671e-09 -2.09763870e-17]\n",
      " [-1.95252586e-16  4.47716664e-09  9.89855068e-02 -4.61023884e-10]\n",
      " [ 1.00542807e-17  2.18036741e-17 -4.61023983e-10  4.90842999e-03]]\n"
     ]
    }
   ],
   "source": [
    "R_ref, U_ref = schur(B)\n",
    "print(\"R_ref:\\n\", R_ref)\n",
    "print(\"R_my:\\n\", R)"
   ]
  },
  {
   "cell_type": "markdown",
   "metadata": {},
   "source": [
    "### Задание 8"
   ]
  },
  {
   "cell_type": "markdown",
   "metadata": {},
   "source": [
    "*Обобщите степенной метод так, чтобы одновременно вычислялось несколько собственных векторов. Реализуйте эту модификацию. Какие условия являются достаточными для сходимости вашего метода.*\n",
    "\n",
    "Голуб - раздел 7.3.2."
   ]
  },
  {
   "cell_type": "code",
   "execution_count": 11,
   "metadata": {},
   "outputs": [
    {
     "name": "stdout",
     "output_type": "stream",
     "text": [
      "eigenvalues:\n",
      " [3.07580158 0.82030449 0.09898551 0.00490843]\n",
      "eigenvectors:\n",
      " [[-0.44914144 -0.65286248  0.54614281 -0.27160741]\n",
      " [-0.54614281 -0.27160741 -0.44914144  0.65286248]\n",
      " [-0.54614281  0.27160741 -0.44914144 -0.65286248]\n",
      " [-0.44914144  0.65286248  0.54614281  0.27160741]]\n",
      "Schur\n",
      "R:\n",
      " [[ 3.07580158e+00 -4.82578387e-16 -8.84572089e-16  4.44215436e-16]\n",
      " [ 0.00000000e+00  8.20304487e-01 -8.18719537e-17  2.97386092e-16]\n",
      " [ 0.00000000e+00  0.00000000e+00  9.89855068e-02 -7.74558731e-17]\n",
      " [ 0.00000000e+00  0.00000000e+00  0.00000000e+00  4.90842999e-03]]\n",
      "U:\n",
      " [[ 0.44914144  0.65286248  0.54614281 -0.27160741]\n",
      " [ 0.54614281  0.27160741 -0.44914144  0.65286248]\n",
      " [ 0.54614281 -0.27160741 -0.44914144 -0.65286248]\n",
      " [ 0.44914144 -0.65286248  0.54614281  0.27160741]]\n"
     ]
    }
   ],
   "source": [
    "lam, vecs = orthogonal_iteration(B, 4)\n",
    "print(\"eigenvalues:\\n\", lam)\n",
    "print(\"eigenvectors:\\n\", vecs)\n",
    "print(\"Schur\")\n",
    "print(\"R:\\n\", R_ref)\n",
    "print(\"U:\\n\", U_ref)"
   ]
  },
  {
   "cell_type": "markdown",
   "metadata": {},
   "source": [
    "### Задание 9"
   ]
  },
  {
   "cell_type": "markdown",
   "metadata": {},
   "source": [
    "*Предложите матрицу, у которой левый и правый собственные вектора для одного собственного значения почти ортогональны. Добавляя малое возмущение к матрице (можно воспользоваться [numpy.random.randn](https://numpy.org/doc/stable/reference/random/generated/numpy.random.randn.html)) и находя собственные значения для возмущенной матрицы через `scipy.linalg.schur` оцените число обусловленности для вычисления собственного числа. Сравните с теорией.*\n",
    "\n",
    "Предлагаемая матрица:\n",
    "\n",
    "$$A=\\begin{pmatrix}1&1000\\\\ 0&2\\end{pmatrix}$$\n",
    "\n",
    "Одно из ее собственных чисел $\\lambda_1=1$. Ему соответствуют левый и правый собственные векторы:\n",
    "\n",
    "$$v_1^{(l)}=(0.001\\quad -1)^T \\qquad v_1^{(l)}=(1\\quad 0)^T$$\n",
    "\n",
    "Их скалярное произведение равно $0.001 \\rightarrow 0$"
   ]
  },
  {
   "cell_type": "markdown",
   "metadata": {},
   "source": [
    "### Задание 10"
   ]
  },
  {
   "cell_type": "markdown",
   "metadata": {},
   "source": [
    "*Рассмотрите малое возмущение $\\epsilon$ для матрицы*\n",
    "\n",
    "$$A=\\begin{pmatrix}1&a\\\\\\epsilon&1\\end{pmatrix},$$\n",
    "\n",
    "*где $a$ - параметр. Насколько сильно возущение изменяет собственные значения? Собственные вектора (`scipy.linalg.eig`)?*"
   ]
  },
  {
   "cell_type": "markdown",
   "metadata": {},
   "source": [
    "### Задание 11"
   ]
  },
  {
   "cell_type": "markdown",
   "metadata": {},
   "source": [
    "*Реализуйте QR алгоритм со сдвигами для симметричной матрицы $A$. Экспериментально проверьте скорость сходимости. Сравните со скорость сходимости степенного метода.*"
   ]
  },
  {
   "cell_type": "markdown",
   "metadata": {},
   "source": [
    "### Задание 13"
   ]
  },
  {
   "cell_type": "markdown",
   "metadata": {},
   "source": [
    "*Предложите и реализуйте метод вычисления [сингулярного (SVD) разложения](https://en.wikipedia.org/wiki/Singular_value_decomposition), используя разложение Шура. Постарайтесь избежать вычисления матриц $AA^T$ и $A^TA$.*"
   ]
  }
 ],
 "metadata": {
  "kernelspec": {
   "display_name": "Python 3",
   "language": "python",
   "name": "python3"
  },
  "language_info": {
   "codemirror_mode": {
    "name": "ipython",
    "version": 3
   },
   "file_extension": ".py",
   "mimetype": "text/x-python",
   "name": "python",
   "nbconvert_exporter": "python",
   "pygments_lexer": "ipython3",
   "version": "3.12.7"
  },
  "orig_nbformat": 2
 },
 "nbformat": 4,
 "nbformat_minor": 2
}
