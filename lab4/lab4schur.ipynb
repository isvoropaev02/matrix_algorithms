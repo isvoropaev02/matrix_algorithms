{
 "cells": [
  {
   "cell_type": "code",
   "execution_count": null,
   "metadata": {},
   "outputs": [],
   "source": [
    "import numpy as np\n",
    "from scipy.linalg import norm, schur\n",
    "from lab4_algorithms import*\n",
    "import matplotlib.pylab as plt\n",
    "%matplotlib inline"
   ]
  },
  {
   "cell_type": "markdown",
   "metadata": {},
   "source": [
    "# Разложение Шура\n",
    "\n",
    "Любую квадратную матрицу $A$ можно преобразованием $U$ подобия привести к верхнетреугольной матрице $R$,\n",
    "причем преобразование $U$ можно выбрать унитарным (ортогональным для вещественных матриц):\n",
    "$$A=URU^*,\\quad U^*AU=R,\\quad UU^*=U^*U=1,$$\n",
    "такое представление матрицы называется [разложением Шура](https://en.wikipedia.org/wiki/Schur_decomposition).\n",
    "Здесь и далее мы будем обозначать единичную матрицу подходящего размера через $1$,\n",
    "а сопряженную матрицу к $A$ через $A^*$.\n",
    "Элементы сопряженной матрицы получаются транспонирование матрицы с последующим комплексным сопряжением:\n",
    "$$\n",
    "A^*=\\bar A^T,\\quad (A^*)_{nk}=\\overline{A_{kn}}. \n",
    "$$ \n",
    "Столбцы матрицы преобразования $U$ называются векторами Шура."
   ]
  },
  {
   "cell_type": "markdown",
   "metadata": {},
   "source": [
    "## Задания.\n",
    "\n",
    "1. Какой смысл имеют диагональные элементы матрицы $R$?\n",
    "\n",
    "2. В каком случае вектора Шура оказываются собственными векторами?\n",
    "\n",
    "3. Покажите, что сумма квадратов абсолютных значений всех недиагональных элементов матрицы $R$ не зависит от выбора $U$ и определяется только матрицей $A$:\n",
    "$$ N = \\sum_{n}\\sum_{k>n} |R_{nk}|^2.$$\n",
    "Какой смысл вы можете придать этой сумме?"
   ]
  },
  {
   "cell_type": "markdown",
   "metadata": {},
   "source": [
    "Первый вектор Шура всегда является собственным, поэтому мы можем построить наивную процедуру\n",
    "вычисления разложения Шура, имея способ вычисления собственных чисел и векторов.\n",
    "Проще всего оказывается вычислить самое большое по модулю собственное значение матрицы (спектральный радиус),\n",
    "для этого можно воспользоваться [методом степеней](https://en.wikipedia.org/wiki/Power_iteration).\n",
    "Суть метода заключается в вычислении последовательности:\n",
    "$$e_{n+1}=\\frac{Ae_n}{\\|Ae_n\\|},$$\n",
    "которая при определенных условиях сходится к собственному вектору, отвечающему максимальному по модулю собственому значению $A$. "
   ]
  },
  {
   "cell_type": "markdown",
   "metadata": {},
   "source": [
    "## Задания.\n",
    "\n",
    "4. Предложите достаточные условия сходимости степенного метода.\n",
    "\n",
    "5. Реализуйте степенной метод. Для проверки результата воспользуйтесь функцией \n",
    "[scipy.linalg.norm(A, ord=2)](https://docs.scipy.org/doc/scipy/reference/generated/scipy.linalg.norm.html),\n",
    "которая на квадратной матрице $A$ возвращает ее спектральных радиус.\n",
    "\n",
    "6. Первый вектор Шура находится степенным методом, как можно найти второй вектор Шура? \n",
    "__Указание:__ Рассмотрите подматрицу $A_{2\\colon,2\\colon}$.\n",
    "\n",
    "7. Реализуйте функцию для построения разложения Шура с помощью степенного метода. В каких случаях алгоритм сойдется? В каких случаях сойдется к разложению Шура? С какой скоростью итерации сходятся в случае сходимости?\n",
    "\n",
    "8. Обобщите степенной метод так, чтобы одновременно вычислялось несколько собственных векторов. \n",
    "Реализуйте эту модификацию. Какие условия являются достаточными для сходимости вашего метода."
   ]
  },
  {
   "cell_type": "markdown",
   "metadata": {},
   "source": [
    "Задача вычисления собственных чисел может быть плохо обусловлена для матрицы общего вида. \n",
    "Наибольшую трудность представляют близкие собственные значения и вырожденные собственные значения. \n",
    "Проведите несколько экспериментов, используя библиотечную функцию для вычисления разложения Шура \n",
    "[scipy.linalg.schur](https://docs.scipy.org/doc/scipy/reference/generated/scipy.linalg.schur.html).\n"
   ]
  },
  {
   "cell_type": "markdown",
   "metadata": {},
   "source": [
    "## Задания.\n",
    "\n",
    "9. Предложите матрицу, у которой левый и правый собственные вектора для одного собственного значения почти ортогональны. Добавляя малое возмущение к матрице (можно воспользоваться [numpy.random.randn](https://numpy.org/doc/stable/reference/random/generated/numpy.random.randn.html)) и находя собственные значения для возмущенной матрицы через `scipy.linalg.schur` оцените число обусловленности для вычисления собственного числа. Сравните с теорией.\n",
    "\n",
    "10. Рассмотрите малое возмущение $\\epsilon$ для матрицы \n",
    "$$A=\\begin{pmatrix}1&a\\\\\\epsilon&1\\end{pmatrix},$$\n",
    "где $a$ - параметр. Насколько сильно возущение изменяет собственные значения?\n",
    "Собственные вектора (`scipy.linalg.eig`)?"
   ]
  },
  {
   "cell_type": "markdown",
   "metadata": {},
   "source": [
    "На практике для вычисления разложения Шура как правило используется [UR алгоритм](https://en.wikipedia.org/wiki/QR_algorithm) и его варианты. \n",
    "Мы ограничимся изучением этого метода только для симметричных матриц.\n",
    "\n",
    "Пусть матрица $A$ имеет только вещественные коэффициенты и симметрична, т.е. $A^T=A$.\n",
    "В этом случае матрица $R$ в разложение Шура для матрица $A$ оказывается диагональным, т.е. выполняется спектральное разложение.\n",
    "\n",
    "Перед выполнение QR алгоритма матрица $A$ приводится преобразованием подобия к более простому виду $A_0=VAV^T$,\n",
    "как правило к виду [матрицы Хессенберга](https://en.wikipedia.org/wiki/Hessenberg_matrix).\n",
    "Преобразование $V$ можно представить, например, в виде цепочки [вращений Гивенса](https://en.wikipedia.org/wiki/Givens_rotation).\n",
    "На одном шаге QR алгоритма строится QR разложение матрицы $A_n=Q_nR_n$,\n",
    "затем матрицы из разложения перемножаются в обратном порядке, формируя новый член последовательности:\n",
    "$A_{n+1}=R_nQ_n$.\n",
    "Все матрицы в последовательности подобны: $A_{n+1}=Q_n^TA_nQ_n$.\n",
    "Итерации повторяются до тех пор, пока матрица $A_n$ не станет достаточно треугольной.\n",
    "\n",
    "В наивном варианте QR алгоритм не всегда сходится, однако ситуацию можно исправить, добавив в сдвиги.\n",
    "На каждом шаге алгоритма будем строить QR разложение для $A_n-\\zeta_n=Q_nR_n$ с подходящим $\\zeta_n$.\n",
    "Следующий член последовательности определим так $A_{n+1}=R_nQ_n+\\zeta_n$.\n",
    "Последовательность $\\zeta_n$ выбирается так, чтобы $\\zeta_n$ сходилось к минимальному собственному числу,\n",
    "например, полагая $\\zeta_n$ равным элементу $R$ из последнего столбца и строки.\n",
    "В этому случае итерации почти всегда сходятся и дают кубическую скорость сходимости."
   ]
  },
  {
   "cell_type": "markdown",
   "metadata": {},
   "source": [
    "## Задания.\n",
    "\n",
    "11. Реализуйте QR алгоритм со сдвигами для симметричной матрицы $A$. \n",
    "Экспериментально проверьте скорость сходимости. \n",
    "Сравните со скорость сходимости степенного метода.\n",
    "\n",
    "12. **(повышенная сложность)** Реализуйте неявный QR алгоритм. Сравните его работу с работой явного метода.\n",
    "\n",
    "13. Предложите и реализуйте метод вычисления [сингулярного (SVD) разложения](https://en.wikipedia.org/wiki/Singular_value_decomposition), используя разложение Шура. Постарайтесь избежать вычисления матриц $AA^T$ и $A^TA$."
   ]
  },
  {
   "cell_type": "markdown",
   "metadata": {},
   "source": [
    "# Решения"
   ]
  },
  {
   "cell_type": "markdown",
   "metadata": {},
   "source": [
    "### Задание 1"
   ]
  },
  {
   "cell_type": "markdown",
   "metadata": {},
   "source": [
    "*Какой смысл имеют диагональные элементы матрицы $R$?*\n",
    "\n",
    "Диагональные элементы матрицы $R$ являются ее собственными числами, а также собственными числами исходной матрицы $A$. Покажем это (пишем характеристическое уравнение):\n",
    "\n",
    "$$0 = \\det (A-\\lambda I) = \\det(URU^H-\\lambda I) = \\det(URU^H-U\\lambda IU^H) = \\det(R-\\lambda I)$$\n",
    "\n",
    "Значит $spec(A)=spec(R)$\n",
    "\n",
    "Т.к. матрица $R$ - верхнетреугольная, то $\\det(R-\\lambda I)=\\prod\\limits_k(R_{kk}-\\lambda)=0$ - т.е. на диагонали матрицы $R$ находятся собственные числа матрицы $R$ (и соответственно $A$)."
   ]
  },
  {
   "cell_type": "markdown",
   "metadata": {},
   "source": [
    "### Задание 2"
   ]
  },
  {
   "cell_type": "markdown",
   "metadata": {},
   "source": [
    "*В каком случае вектора Шура оказываются собственными векторами?*\n",
    "\n",
    "Векторы Шура - столбцы матрицы $U$ ($u_i = U\\cdot e_i$), где $e_1=[1, 0, 0, ..., 0]^T, e_2=...$.\n",
    "\n",
    "**Заметим, что в общем случае:**\n",
    "\n",
    "- Первый вектор Шура всегда собственный, т.к. $Au_1=AUe_1=URU^HUe_1=URe_1=R_{11}Ue_1=R_{11}u_1$\n",
    "- Если над $k$-ым диагональным элементом в матрице $R$ стоят только нули, то вектор $u_k$ тоже собственный. Доказательство аналогичное предыдущему ($Au_k=R_{kk}u_k$).\n",
    "\n",
    "**Если матрица диагональная:**\n",
    "\n",
    "Тривиальный случай, на диагоналях сразу стояю все собственные числа. Разложение тривиально. Матрица $U=I$ и все векторы собственные.\n",
    "\n",
    "**Если матрица нормальная (оператор нормальный):**\n",
    "\n",
    "(1) $AA^H=U^HRU\\cdot(U^HRU)^H=U^HRUU^HR^HU=U^HRR^HU$\n",
    "\n",
    "(2) $A^HA=(U^HRU)^H\\cdot U^HRU=U^HR^HUU^HRU=U^HR^HRU$\n",
    "\n",
    "Выражения (1) и (2) должны быть равны --> $RR^H=R^HR$. Смотрим диагональный элемент каждой матрицы:\n",
    "\n",
    "$$(RR^H)_{ii}=\\sum\\limits_{k\\geq i} R_{ik}\\cdot R^*_{ik} = \\sum\\limits_{k \\leq i} R_{ki}\\cdot R^*_{ki} =(R^HR)_{ii}$$\n",
    "\n",
    "$$\\sum\\limits_{k\\geq i} |R_{ik}|^2 = \\sum\\limits_{k \\leq i} |R_{ki}|^2$$\n",
    "\n",
    "Расписываем сумму для $i=1$, с учетом того, что $R$ - **верхнетреугольная**:\n",
    "\n",
    "$$|R_{11}|^2+|R_{12}|^2+|R_{13}|^2+...=|R_{11}|^2$$\n",
    "\n",
    "Тогда, вычев правую часть из левой получится, что $|R_{12}|^2+|R_{13}|^2+...=0$, значит $\\forall k>1 R_{1k}=0$.\n",
    "\n",
    "Данную процедуру можно продолжить для $i=2, 3, ...$. Значит матрица $R$ - диагональна.\n",
    "\n",
    "Тогда из выкладки в задании 1 получается, что элементы матрицы $R$ - собственные числа. Каждый вектор Шура домножается на только одно собственное число. Значит векторы Шура в этом случае являются собственными. (Разложение совпадает со спектральным)"
   ]
  },
  {
   "cell_type": "markdown",
   "metadata": {},
   "source": [
    "### Задание 3"
   ]
  },
  {
   "cell_type": "markdown",
   "metadata": {},
   "source": [
    "*Покажите, что сумма квадратов абсолютных значений всех недиагональных элементов матрицы $R$ не зависит от выбора $U$ и определяется только матрицей $A$:*\n",
    "$$ N = \\sum_{i}\\sum_{k>i} |R_{ik}|^2.$$\n",
    "*Какой смысл вы можете придать этой сумме?*\n",
    "\n",
    "**Доказательство:**\n",
    "\n",
    "1. Пусть матрица $A$ имеет 2 разложения Шура: $A=V^HSV$ и $A=U^HRU$. Тогда можно записать равенство:\n",
    "\n",
    "$$SVU^H=VU^HR$$\n",
    "\n",
    "Обозначим за $W=VU^H$, тогда можно записать в виде $(W^HS^H)^H=WR$. Заметим, что $W$ - унитарное преобразование (как композиция унитарных).\n",
    "\n",
    "2. Еще заметим, что диагональные элементы матриц $R$ и $S$ совпадают, тк эти матрицы получены разложением Шура.\n",
    "\n",
    "3. Знаем, что унитарное преобразование не меняет норму вектора, значит (учитывая, что $R$ - верхнетреугольная, а $S^H$ - нижнетреугольная)\n",
    "\n",
    "$$\\forall i: \\sum_{k\\leq i} |R_{ki}|^2 = \\sum_{k} |(WR)_{ki}|^2$$\n",
    "\n",
    "$$\\forall i: \\sum_{k\\geq i} |S^H_{ki}|^2 = \\sum_{k} |(W^HS^H)_{ki}|^2$$\n",
    "\n",
    "Правые части данных выражений равны по пункту 1. Значит равны и левые.\n",
    "\n",
    "4. Теперь просуммируем равенство по всем $i$:\n",
    "\n",
    "$$\\sum_{i}\\sum_{k\\leq i} |R_{ki}|^2 = \\sum_{i}\\sum_{k\\geq i} |S^H_{ki}|^2$$\n",
    "\n",
    "Так как диагональные элементы матриц совпадают (пункт 2), то можно их убрать из суммы и элементы матрицы $S^H$ выразить через элементы матрицы $S$:\n",
    "\n",
    "$$\\sum_{i}\\sum_{k<i} |R_{ki}|^2 = \\sum_{i}\\sum_{k<i} |S_{ki}|^2$$\n",
    "\n",
    "Это и есть требуемое равенство с точностью до перестановки порядка суммирования.\n",
    "\n",
    "**Интерпретация данной величины:**\n",
    "\n",
    "$\\beta = \\sum_{i}\\sum_{k<i} |R_{ki}|^2$ в случае, когда исходная матрица нормальная будет равна 0. Тогда данную величину $\\beta$ можно назвать мерой отклонения исходной матрицы $A$ от нормальной."
   ]
  },
  {
   "cell_type": "markdown",
   "metadata": {},
   "source": [
    "### Задание 4"
   ]
  },
  {
   "cell_type": "markdown",
   "metadata": {},
   "source": [
    "*Предложите достаточные условия сходимости степенного метода.*\n",
    "\n",
    "**Note:** Сразу откинем из рассмотрения случай, когда спектр комплексный. В таком случае максимальному по модулю собственному числу будет соответствовать его сопряженное, которое тоже будет решением характеристического уравнения. Поэтому сходимости метода может и не быть.\n",
    "\n",
    "Если спектр матрицы вещественный, то можно предложить следующее утверждение:\n",
    "\n",
    "**Утв.** Метод степеней сходится для матрицы $A$ с вещественным спектром, если $\\exists \\lambda_1 \\in \\text{spec}(A): \\forall i = 2,...,N \\quad |\\lambda_1| > |\\lambda_i|$\n",
    "\n",
    "**Док-во:**\n",
    "\n",
    "0. Метод можно описать формулой: $x^{(n+1)}=\\frac{Ax^{(n)}}{\\|Ax^{(n)}\\|}$\n",
    "\n",
    "1. Пусть $\\{e_i\\}^N_{i=1}$ - ортонормированный собственный базис. Мы выбираем случайный вектор, который можно разложить по этому базису: $x^{(0)}=\\sum\\limits_{i=1}^N\\alpha_i e_i$.\n",
    "\n",
    "2. Смотрим что происходит на $n+1$ шаге:\n",
    "\n",
    "- $Ax^{(n)}=\\lambda_1^{n+1}\\alpha_1 e_1 + \\sum\\limits_{i=2}^N \\lambda_i^{n+1}\\alpha_i e_i$\n",
    "\n",
    "- $\\|Ax^{(n)}\\|=|\\lambda_1|^{n+1}\\sqrt{\\alpha_1^2 + \\sum\\limits_{i=2}^N\\alpha_i^2 |\\frac{\\lambda_i^{n+1}}{\\lambda_1^{n+1}}|^2}$\n",
    "\n",
    "3. Посмотрим отличие от искомого вектора $e_1$:\n",
    "\n",
    "$$\\|x^{(n+1)}-e_1\\|=\\left\\|\\dfrac{\\lambda_1^{n+1}\\alpha_1 e_1 + \\sum\\limits_{i=2}^N \\lambda_i^{n+1}\\alpha_i e_i}{|\\lambda_1|^{n+1}\\sqrt{\\alpha_1^2 + \\sum\\limits_{i=2}^N\\alpha_i^2 |\\frac{\\lambda_i^{n+1}}{\\lambda_1^{n+1}}|^2}} - e_1\\right\\| \\approx \\left\\|\\dfrac{\\lambda_1^{n+1}\\alpha_1 e_1 + \\sum\\limits_{i=2}^N \\lambda_i^{n+1}\\alpha_i e_i}{|\\lambda_1|^{n+1}|\\alpha_1|} - e_1\\right\\| =$$\n",
    "\n",
    "$$= \\left\\|\\text{sgn}(\\lambda_1^{n+1}\\alpha_1) e_1 + \\sum\\limits_{i=2}^N \\text{sgn}(\\lambda_i^{n+1}\\alpha_i)|\\frac{\\lambda_i^{n+1}}{\\lambda_1^{n+1}}|\\cdot|\\frac{\\alpha_i}{\\alpha_1}| e_i - e_1\\right\\|$$\n",
    "\n",
    "Нам не важно направление (знак) вектора $e_1$, который мы ищем, поэтому выберем его равным $\\text{sgn}(\\lambda_1^{n+1}\\alpha_1)$, тогда ошибка метода степеней получется:\n",
    "\n",
    "$$\\|x^{(n+1)}-e_1\\|=\\left\\|\\sum\\limits_{i=2}^N \\text{sgn}(\\lambda_i^{n+1}\\alpha_i)|\\frac{\\lambda_i^{n+1}}{\\lambda_1^{n+1}}|\\cdot|\\frac{\\alpha_i}{\\alpha_1}| e_i\\right\\| = O\\left(\\max_i\\left|\\frac{\\lambda_i}{\\lambda_1}\\right|^{n+1}\\right) \\rightarrow 0 \\quad (n \\rightarrow +\\infty)$$\n",
    "\n",
    "4. Значит метод будет сходиться к $e_1$ в этом случае."
   ]
  },
  {
   "cell_type": "markdown",
   "metadata": {},
   "source": [
    "### Задание 5"
   ]
  },
  {
   "cell_type": "markdown",
   "metadata": {},
   "source": [
    "*Реализуйте степенной метод. Для проверки результата воспользуйтесь функцией [scipy.linalg.norm(A, ord=2)](https://docs.scipy.org/doc/scipy/reference/generated/scipy.linalg.norm.html), которая на квадратной матрице $A$ возвращает ее спектральных радиус.*"
   ]
  },
  {
   "cell_type": "code",
   "execution_count": 2,
   "metadata": {},
   "outputs": [
    {
     "name": "stdout",
     "output_type": "stream",
     "text": [
      "Power iteration: (0.9999999967369457, array([0.70710679, 0.70710677]))\n",
      "Scipy norm: 1.047871858499512\n",
      "Power iteration: (0.5, array([1.00000000e+00, 3.15184061e-09]))\n",
      "Scipy norm: 0.5\n"
     ]
    }
   ],
   "source": [
    "A = np.array([[0.5, 0.5], [0.2, 0.8]])\n",
    "B = np.array([[0.5, 0], [0, 0.1]])\n",
    "print(\"Power iteration:\", power_iteration(A))\n",
    "print(\"Scipy norm:\", norm(A, 2))\n",
    "print(\"Power iteration:\", power_iteration(B, 30))\n",
    "print(\"Scipy norm:\", norm(B, 2))"
   ]
  },
  {
   "cell_type": "code",
   "execution_count": 3,
   "metadata": {},
   "outputs": [
    {
     "name": "stdout",
     "output_type": "stream",
     "text": [
      "norm(A, 2)  :  1.368052545662319\n",
      "eigenvalues :  [-1.06731753  1.36805255  0.49926498]\n",
      "ref eigvec  :  [ 0.82186978  0.48628486 -0.29674418]\n"
     ]
    }
   ],
   "source": [
    "A = np.array([[1, 0.5, -0.2], [0.3, 0.8, -0.1], [-0.5, -0.6, -1]])\n",
    "# A = np.random.randint(low=0, high=20,size=(10, 10))\n",
    "# ref_eigval = norm(A, 2)\n",
    "tmp = np.linalg.eig(A)\n",
    "ref_eigvec = tmp.eigenvectors[:, np.argmax(np.abs(tmp.eigenvalues))]\n",
    "ref_eigval = tmp.eigenvalues[np.argmax(np.abs(tmp.eigenvalues))]\n",
    "num_iter = np.linspace(10, 50, 20, dtype=np.int32)\n",
    "print(\"norm(A, 2)  : \", ref_eigval)\n",
    "print(\"eigenvalues : \", tmp.eigenvalues)\n",
    "print(\"ref eigvec  : \", ref_eigvec)\n",
    "\n",
    "eigval_err = np.empty_like(num_iter, dtype=np.float64)\n",
    "eigvec_err = np.empty_like(num_iter, dtype=np.float64)\n",
    "for i in range(num_iter.shape[0]):\n",
    "    eigval, eigvec = power_iteration(A, max_iter=num_iter[i], tol=0)\n",
    "    eigval_err[i] = np.abs(ref_eigval-eigval)\n",
    "    eigvec_err[i] = np.mean(np.abs(ref_eigvec-eigvec))"
   ]
  },
  {
   "cell_type": "code",
   "execution_count": 4,
   "metadata": {},
   "outputs": [],
   "source": [
    "ref_convergence = (1.06731753 / 1.36805255)**num_iter"
   ]
  },
  {
   "cell_type": "code",
   "execution_count": 5,
   "metadata": {},
   "outputs": [
    {
     "data": {
      "image/png": "[encoded data removed]",
      "text/plain": [
       "<Figure size 1300x400 with 2 Axes>"
      ]
     },
     "metadata": {},
     "output_type": "display_data"
    }
   ],
   "source": [
    "fig1 = plt.figure(figsize=[13,4])\n",
    "\n",
    "ax_1 = fig1.add_subplot(121)\n",
    "ax_1.set_title('Ошибка в собственном числе')\n",
    "ax_1.scatter(num_iter, eigval_err)\n",
    "ax_1.set_xlabel('Количество итераций')\n",
    "ax_1.set_ylabel('Абс. ошибка')\n",
    "ax_1.grid()\n",
    "\n",
    "ax_2 = fig1.add_subplot(122)\n",
    "ax_2.set_title('Ошибка в собственном векторе')\n",
    "ax_2.plot(num_iter, ref_convergence, 'r--', label=r'converg. speed $|\\lambda_2/\\lambda_1|^n$')\n",
    "ax_2.scatter(num_iter, eigvec_err)\n",
    "ax_2.set_xlabel('Количество итераций')\n",
    "ax_2.set_ylabel('Средняя Абс. ошибка')\n",
    "ax_2.legend()\n",
    "ax_2.grid()\n",
    "\n",
    "plt.show()"
   ]
  },
  {
   "cell_type": "markdown",
   "metadata": {},
   "source": [
    "### Задание 6"
   ]
  },
  {
   "cell_type": "markdown",
   "metadata": {},
   "source": [
    "*Первый вектор Шура находится степенным методом, как можно найти второй вектор Шура? (Указание: Рассмотрите подматрицу $A_{2\\colon,2\\colon}$.)*"
   ]
  },
  {
   "cell_type": "markdown",
   "metadata": {},
   "source": [
    "**Идея:** \n",
    "- Найденный собственный вектор $e_1$ (он равен первому вектору Шура $u_1=e_1$) запишем в матрирцу $B=(u_1|(\\delta_{i2})|(\\delta_{i3})|...)$.\n",
    "- Затем выполним для нее QR-разложение матрицы $B$.\n",
    "- Рассмотрим матрицу Q. Ее первый столбец останется равным $e_1$, а остальные столбцы будут образовывать ортонормированный базис.\n",
    "- Применим к матрице A (исходной) преобразование: $Q^TAQ$ первый столбец будет содержать 1 в самом первом элементе и 0 в остальных элементах.\n",
    "- Рассмотрим подматрицу $Q^TAQ$[2:N, 2:N]. Найдем для нее собственный вектор методом степеней - $q_1$.\n",
    "- Находим собственный вектор в исходном базисе: $u_2=Q\\cdot [0 | q_1^T]^T$, который будет ортогонален $u_1$.\n",
    "\n",
    "Такой алгоритм можно продолжить иттерационно. Далее у нас будет матрица $B=(u_1|u_2|(\\delta_{i3})|...)$"
   ]
  },
  {
   "cell_type": "markdown",
   "metadata": {},
   "source": [
    "### Задание 7"
   ]
  },
  {
   "cell_type": "markdown",
   "metadata": {},
   "source": [
    "*Реализуйте функцию для построения разложения Шура с помощью степенного метода. В каких случаях алгоритм сойдется? В каких случаях сойдется к разложению Шура? С какой скоростью итерации сходятся в случае сходимости?*"
   ]
  },
  {
   "cell_type": "code",
   "execution_count": 6,
   "metadata": {},
   "outputs": [
    {
     "name": "stdout",
     "output_type": "stream",
     "text": [
      "U:\n",
      " [[-0.81710531 -0.52328663  0.24188845]\n",
      " [-0.54402721  0.56112254 -0.62383964]\n",
      " [-0.19071788  0.64133658  0.74317837]]\n",
      "R:\n",
      " [[ 4.85252352e+00 -4.99071673e-01 -4.48898030e-01]\n",
      " [ 3.60717503e-08  2.72651498e+00 -4.35221748e-01]\n",
      " [ 4.28866080e-15  2.14941688e-08  1.42096150e+00]]\n",
      "Check A = UTU*:\n",
      " [[-3.55271368e-15 -1.11022302e-16  0.00000000e+00]\n",
      " [ 2.22044605e-16 -1.33226763e-15 -5.55111512e-16]\n",
      " [ 1.85804913e-16 -6.66133815e-16  4.44089210e-16]]\n",
      "U:\n",
      " [[-0.44914143  0.65286248  0.54614281 -0.2716074 ]\n",
      " [-0.54614281  0.27160741 -0.44914144  0.65286247]\n",
      " [-0.54614281 -0.2716074  -0.44914143 -0.65286248]\n",
      " [-0.44914144 -0.65286248  0.5461428   0.27160741]]\n",
      "R:\n",
      " [[ 3.07580158e+00 -1.37186927e-08  1.11614596e-16 -3.19767202e-16]\n",
      " [-1.37186928e-08  8.20304487e-01  2.77882590e-09  1.34786506e-17]\n",
      " [ 1.29413391e-16  2.77882592e-09  9.89855068e-02  8.49783732e-10]\n",
      " [-2.01227723e-16 -1.92236475e-17  8.49783773e-10  4.90842999e-03]]\n",
      "Check B = UTU*:\n",
      " [[ 2.22044605e-16  4.44089210e-16  2.22044605e-16  0.00000000e+00]\n",
      " [ 1.11022302e-16  0.00000000e+00  3.33066907e-16  0.00000000e+00]\n",
      " [ 0.00000000e+00  2.22044605e-16  2.22044605e-16  0.00000000e+00]\n",
      " [-2.22044605e-16 -2.22044605e-16 -1.11022302e-16 -2.22044605e-16]]\n"
     ]
    }
   ],
   "source": [
    "'''some matrix'''\n",
    "A = np.array([[4, 1, 0.8],\n",
    "              [1, 3, 1], \n",
    "              [0, 1, 2]])\n",
    "\n",
    "U, R = schur_decomposition_power_method(A)\n",
    "print(\"U:\\n\", U)\n",
    "print(\"R:\\n\", R)\n",
    "print(\"Check A = UTU*:\\n\", U @ R @ U.T - A)\n",
    "\n",
    "'''normal matrix'''\n",
    "r = 0.3 # medium (0 - low, 0.3 - medium, 0.9 - high)\n",
    "B = np.array([[1, r**(1/9), r**(4/9), r],\n",
    "              [r**(1/9), 1, r**(1/9), r**(4/9)],\n",
    "              [r**(4/9), r**(1/9), 1, r**(1/9)],\n",
    "              [r, r**(4/9), r**(1/9), 1]])\n",
    "\n",
    "U, R = schur_decomposition_power_method(B)\n",
    "print(\"U:\\n\", U)\n",
    "print(\"R:\\n\", R)\n",
    "print(\"Check B = UTU*:\\n\", U @ R @ U.T - B)"
   ]
  },
  {
   "cell_type": "code",
   "execution_count": 7,
   "metadata": {},
   "outputs": [
    {
     "name": "stdout",
     "output_type": "stream",
     "text": [
      "R_ref:\n",
      " [[ 3.07580158e+00 -4.82578387e-16 -8.84572089e-16  4.44215436e-16]\n",
      " [ 0.00000000e+00  8.20304487e-01 -8.18719537e-17  2.97386092e-16]\n",
      " [ 0.00000000e+00  0.00000000e+00  9.89855068e-02 -7.74558731e-17]\n",
      " [ 0.00000000e+00  0.00000000e+00  0.00000000e+00  4.90842999e-03]]\n",
      "R_my:\n",
      " [[ 3.07580158e+00 -1.37186927e-08  1.11614596e-16 -3.19767202e-16]\n",
      " [-1.37186928e-08  8.20304487e-01  2.77882590e-09  1.34786506e-17]\n",
      " [ 1.29413391e-16  2.77882592e-09  9.89855068e-02  8.49783732e-10]\n",
      " [-2.01227723e-16 -1.92236475e-17  8.49783773e-10  4.90842999e-03]]\n"
     ]
    }
   ],
   "source": [
    "R_ref, U_ref = schur(B)\n",
    "print(\"R_ref:\\n\", R_ref)\n",
    "print(\"R_my:\\n\", R)"
   ]
  },
  {
   "cell_type": "markdown",
   "metadata": {},
   "source": [
    "### Задание 8"
   ]
  },
  {
   "cell_type": "markdown",
   "metadata": {},
   "source": [
    "*Обобщите степенной метод так, чтобы одновременно вычислялось несколько собственных векторов. Реализуйте эту модификацию. Какие условия являются достаточными для сходимости вашего метода.*\n",
    "\n",
    "Голуб - раздел 7.3.2."
   ]
  },
  {
   "cell_type": "code",
   "execution_count": 8,
   "metadata": {},
   "outputs": [
    {
     "name": "stdout",
     "output_type": "stream",
     "text": [
      "eigenvalues:\n",
      " [3.07580158 0.82030449 0.09898551 0.00490843]\n",
      "eigenvectors:\n",
      " [[-0.44914144 -0.65286248  0.54614281 -0.27160741]\n",
      " [-0.54614281 -0.27160741 -0.44914144  0.65286248]\n",
      " [-0.54614281  0.27160741 -0.44914144 -0.65286248]\n",
      " [-0.44914144  0.65286248  0.54614281  0.27160741]]\n",
      "Schur\n",
      "R:\n",
      " [[ 3.07580158e+00 -4.82578387e-16 -8.84572089e-16  4.44215436e-16]\n",
      " [ 0.00000000e+00  8.20304487e-01 -8.18719537e-17  2.97386092e-16]\n",
      " [ 0.00000000e+00  0.00000000e+00  9.89855068e-02 -7.74558731e-17]\n",
      " [ 0.00000000e+00  0.00000000e+00  0.00000000e+00  4.90842999e-03]]\n",
      "U:\n",
      " [[ 0.44914144  0.65286248  0.54614281 -0.27160741]\n",
      " [ 0.54614281  0.27160741 -0.44914144  0.65286248]\n",
      " [ 0.54614281 -0.27160741 -0.44914144 -0.65286248]\n",
      " [ 0.44914144 -0.65286248  0.54614281  0.27160741]]\n"
     ]
    }
   ],
   "source": [
    "lam, vecs = orthogonal_iteration(B, 4)\n",
    "print(\"eigenvalues:\\n\", lam)\n",
    "print(\"eigenvectors:\\n\", vecs)\n",
    "print(\"Schur\")\n",
    "print(\"R:\\n\", R_ref)\n",
    "print(\"U:\\n\", U_ref)"
   ]
  },
  {
   "cell_type": "markdown",
   "metadata": {},
   "source": [
    "### Задание 9"
   ]
  },
  {
   "cell_type": "markdown",
   "metadata": {},
   "source": [
    "*Предложите матрицу, у которой левый и правый собственные вектора для одного собственного значения почти ортогональны. Добавляя малое возмущение к матрице (можно воспользоваться [numpy.random.randn](https://numpy.org/doc/stable/reference/random/generated/numpy.random.randn.html)) и находя собственные значения для возмущенной матрицы через `scipy.linalg.schur` оцените число обусловленности для вычисления собственного числа. Сравните с теорией.*\n",
    "\n",
    "Предлагаемая матрица:\n",
    "\n",
    "$$A=\\begin{pmatrix}1&1000\\\\ 0&2\\end{pmatrix}$$\n",
    "\n",
    "Одно из ее собственных чисел $\\lambda_1=1$. Ему соответствуют левый и правый собственные векторы:\n",
    "\n",
    "$$v_1^{(l)}=(0.001\\quad -1)^T \\qquad v_1^{(r)}=(1\\quad 0)^T$$\n",
    "\n",
    "Их скалярное произведение равно $0.001 \\rightarrow 0$\n",
    "\n",
    "Число обусловленности невозмущенной матрицы матрицы $\\chi = 2$ (теория)."
   ]
  },
  {
   "cell_type": "code",
   "execution_count": 9,
   "metadata": {},
   "outputs": [
    {
     "name": "stdout",
     "output_type": "stream",
     "text": [
      "[[ 9.99745257e-01  1.00000052e+03]\n",
      " [-4.64504423e-05  2.00026714e+00]]\n",
      "[[    1.04855239+0.j -1000.0005618 +0.j]\n",
      " [    0.        +0.j     1.95146001+0.j]]\n",
      "\n",
      "[[ 1.00034685e+00  9.99999598e+02]\n",
      " [-2.29817255e-05  1.99991137e+00]]\n",
      "[[   1.02389325+0.j -999.99962105+0.j]\n",
      " [   0.        +0.j    1.97636497+0.j]]\n",
      "\n",
      "[[9.99568282e-01 1.00000007e+03]\n",
      " [1.90991911e-04 2.00026936e+00]]\n",
      "[[ 8.35582621e-01+0.j -9.99999880e+02+0.j]\n",
      " [ 0.00000000e+00+0.j  2.16425502e+00+0.j]]\n",
      "\n",
      "[[ 9.99860212e-01  9.99998599e+02]\n",
      " [-1.24194445e-03  1.99871130e+00]]\n",
      "[[ 1.49928575+9.96251394e-01j -1.04385399-9.99997311e+02j]\n",
      " [ 0.        +0.00000000e+00j  1.49928575-9.96251394e-01j]]\n",
      "\n",
      "[[ 9.98127768e-01  1.00000031e+03]\n",
      " [-7.49669583e-04  1.99836437e+00]]\n",
      "[[  1.49824607  +0.70678957j 816.30975842-577.61448765j]\n",
      " [  0.          +0.j           1.49824607  -0.70678957j]]\n",
      "\n",
      "[[9.97956718e-01 9.99998974e+02]\n",
      " [1.17812755e-03 2.00302935e+00]]\n",
      "[[ 3.04387232e-01+0.j -9.99997796e+02+0.j]\n",
      " [ 0.00000000e+00+0.j  2.69659884e+00+0.j]]\n",
      "\n",
      "[[1.00121758e+00 1.00000078e+03]\n",
      " [3.33107822e-03 2.00055745e+00]]\n",
      "[[-3.91399692e-01+0.j -9.99997453e+02+0.j]\n",
      " [ 0.00000000e+00+0.j  3.39317472e+00+0.j]]\n",
      "\n",
      "[[ 9.97067437e-01  9.99997920e+02]\n",
      " [-7.75731132e-04  1.99846647e+00]]\n",
      "[[  1.49776696 +0.7245892j  999.85877331-16.66505784j]\n",
      " [  0.         +0.j           1.49776696 -0.7245892j ]]\n",
      "\n",
      "[[1.00483150e+00 9.99987410e+02]\n",
      " [1.01241262e-02 2.00970643e+00]]\n",
      "[[  -1.71397957+0.j -999.97728577+0.j]\n",
      " [   0.        +0.j    4.7285175 +0.j]]\n",
      "\n",
      "[[9.93375910e-01 9.99994420e+02]\n",
      " [4.61491243e-03 1.99619904e+00]]\n",
      "[[-7.11181753e-01+0.j -9.99989805e+02+0.j]\n",
      " [ 0.00000000e+00+0.j  3.70075671e+00+0.j]]\n",
      "\n",
      "[[1.01684704e+00 1.00002781e+03]\n",
      " [1.13582434e-03 2.00513855e+00]]\n",
      "[[ 3.36243476e-01+0.j -1.00002668e+03+0.j]\n",
      " [ 0.00000000e+00+0.j  2.68574211e+00+0.j]]\n",
      "\n",
      "[[ 9.94836025e-01  1.00000941e+03]\n",
      " [-6.24297988e-03  1.98162667e+00]]\n",
      "[[   1.48823135  +2.44940802j -888.85350652-458.19945896j]\n",
      " [   0.          +0.j            1.48823135  -2.44940802j]]\n",
      "\n",
      "[[9.96639759e-01 1.00000492e+03]\n",
      " [5.81433669e-03 1.96928427e+00]]\n",
      "[[-9.76890545e-01+0.j -9.99999102e+02+0.j]\n",
      " [ 0.00000000e+00+0.j  3.94281457e+00+0.j]]\n",
      "\n",
      "[[ 9.87529298e-01  1.00006240e+03]\n",
      " [-9.03932902e-03  2.04750812e+00]]\n",
      "[[   1.51751871  +2.95956151j -176.28176929-984.39453199j]\n",
      " [   0.          +0.j            1.51751871  -2.95956151j]]\n",
      "\n",
      "[[9.84794655e-01 9.99981671e+02]\n",
      " [1.35434137e-03 1.92744192e+00]]\n",
      "[[ 2.00545706e-01+0.j -9.99980317e+02+0.j]\n",
      " [ 0.00000000e+00+0.j  2.71169087e+00+0.j]]\n",
      "\n",
      "[[9.48552085e-01 9.99966835e+02]\n",
      " [4.70436361e-02 2.05674799e+00]]\n",
      "[[  -5.37841823+0.j -999.91979105+0.j]\n",
      " [   0.        +0.j    8.3837183 +0.j]]\n",
      "\n",
      "[[1.10851626e+00 9.99931195e+02]\n",
      " [1.20898324e-02 2.14144763e+00]]\n",
      "[[  -1.89009095+0.j -999.91910565+0.j]\n",
      " [   0.        +0.j    5.14005483+0.j]]\n",
      "\n",
      "[[9.43517088e-01 9.99935125e+02]\n",
      " [3.01687123e-01 2.04908250e+00]]\n",
      "[[-15.88107399+0.j 999.63343769+0.j]\n",
      " [  0.        +0.j  18.87367357+0.j]]\n",
      "\n",
      "[[ 1.10895291e+00  1.00036296e+03]\n",
      " [-1.71956417e-01  1.91093391e+00]]\n",
      "[[  1.50994341 +13.10946363j 880.53913738-474.37697531j]\n",
      " [  0.          +0.j           1.50994341 -13.10946363j]]\n",
      "\n",
      "[[7.52804042e-01 1.00003995e+03]\n",
      " [2.73267881e-01 1.96041280e+00]]\n",
      "[[ -15.18556127+0.j -999.7666823 +0.j]\n",
      " [   0.        +0.j   17.89877811+0.j]]\n",
      "\n",
      "[[7.39714728e-01 1.00007809e+03]\n",
      " [9.54039352e-02 1.86836569e+00]]\n",
      "[[  -8.48012292+0.j -999.98268159+0.j]\n",
      " [   0.        +0.j   11.08820334+0.j]]\n",
      "\n",
      "[[ 6.54017556e-01  1.00067751e+03]\n",
      " [-3.75356403e-01  1.93493882e+00]]\n",
      "[[  1.29447819+19.37009344j 999.76179177-32.89976559j]\n",
      " [  0.         +0.j           1.29447819-19.37009344j]]\n",
      "\n",
      "[[1.01178143e+00 9.99818794e+02]\n",
      " [8.92285988e-02 1.20085224e+00]]\n",
      "[[ -8.33938944+0.j 999.72956551+0.j]\n",
      " [  0.        +0.j  10.55202311+0.j]]\n",
      "\n",
      "[[ 2.37844357e+00  1.00002012e+03]\n",
      " [-9.71761410e-01  3.65888983e+00]]\n",
      "[[  3.0186667+31.16682656j 998.8473121-20.0826406j ]\n",
      " [  0.        +0.j           3.0186667-31.16682656j]]\n",
      "\n",
      "[[6.59502978e-02 9.98406070e+02]\n",
      " [2.23873532e+00 2.73877907e+00]]\n",
      "[[ -45.89407212+0.j -996.16733507+0.j]\n",
      " [   0.        +0.j   48.69880149+0.j]]\n",
      "\n",
      "[[  -5.07055888 1001.76661642]\n",
      " [   1.61067678    2.94902644]]\n",
      "[[  -41.42907887+0.j -1000.15593963+0.j]\n",
      " [    0.        +0.j    39.30754643+0.j]]\n",
      "\n",
      "[[  7.15659767 998.88304248]\n",
      " [  1.09404775  -4.47460739]]\n",
      "[[ 34.90655749+0.j 997.78899473+0.j]\n",
      " [  0.        +0.j -32.22456721+0.j]]\n",
      "\n",
      "[[ 5.16414166e+00  9.96134821e+02]\n",
      " [-9.80740374e-01  9.60532278e-02]]\n",
      "[[   2.63009745+31.1533025j  -991.91474038-80.38953821j]\n",
      " [   0.         +0.j            2.63009745-31.1533025j ]]\n",
      "\n",
      "[[  6.18549034 995.61670752]\n",
      " [ -5.06627323  15.09971324]]\n",
      "[[  10.64260179+70.88159442j -988.74475064+60.44372858j]\n",
      " [   0.         +0.j           10.64260179-70.88159442j]]\n",
      "\n",
      "[[  3.43590445 998.33781954]\n",
      " [-18.85353844   2.70924881]]\n",
      "[[   3.07257663+137.19354375j -979.46335113  +6.44428071j]\n",
      " [   0.          +0.j            3.07257663-137.19354375j]]\n",
      "\n"
     ]
    }
   ],
   "source": [
    "noise_var = np.logspace(-7, 2, 30, dtype=np.float64)\n",
    "conditional_val = np.empty_like(noise_var)\n",
    "A = np.array([[1, 1000], [0, 2]], dtype=np.float64)\n",
    "for i in range(noise_var.shape[0]):\n",
    "    noise_matr = np.random.randn(2, 2) * np.sqrt(noise_var[i])\n",
    "    A_noised = A + noise_matr\n",
    "    print(A_noised)\n",
    "    R, U = schur(A_noised, output='complex')\n",
    "    print(R)\n",
    "    conditional_val[i] = np.max(np.abs(np.array([R[0, 0], R[1, 1]]))) / np.min(np.abs(np.array([R[0, 0], R[1, 1]])))\n",
    "    print()"
   ]
  },
  {
   "cell_type": "code",
   "execution_count": 10,
   "metadata": {},
   "outputs": [
    {
     "data": {
      "image/png": "[encoded data removed]",
      "text/plain": [
       "<Figure size 800x500 with 1 Axes>"
      ]
     },
     "metadata": {},
     "output_type": "display_data"
    }
   ],
   "source": [
    "fig1 = plt.figure(figsize=[8,5])\n",
    "\n",
    "ax_1 = fig1.add_subplot(111)\n",
    "ax_1.set_title('Обусловленность зашумленной матрицы')\n",
    "ax_1.scatter(noise_var, conditional_val, label='зашумленная матрица')\n",
    "ax_1.plot(noise_var, [2]*noise_var.shape[0], 'r--', label='Исходная матрица')\n",
    "ax_1.set_ylabel(r'$\\chi$')\n",
    "ax_1.set_xlabel(r'Дисперсия шума $\\sigma^2$')\n",
    "ax_1.set_xscale('log')\n",
    "ax_1.set_yscale('log')\n",
    "ax_1.grid()\n",
    "\n",
    "plt.show()"
   ]
  },
  {
   "cell_type": "markdown",
   "metadata": {},
   "source": [
    "### Задание 10"
   ]
  },
  {
   "cell_type": "markdown",
   "metadata": {},
   "source": [
    "*Рассмотрите малое возмущение $\\epsilon$ для матрицы*\n",
    "\n",
    "$$A=\\begin{pmatrix}1&a\\\\\\epsilon&1\\end{pmatrix},$$\n",
    "\n",
    "*где $a$ - параметр. Насколько сильно возущение изменяет собственные значения? Собственные вектора (`scipy.linalg.eig`)?*\n",
    "\n",
    "**Сначала найдем собственные векторы аналитически:**\n",
    "\n",
    "1. Характеристическое урвненине для данной матрицы $det(A-\\lambda I)=0$ примет вид:\n",
    "$$\\lambda^2 - 2\\lambda + (1 - a\\epsilon) = 0$$\n",
    "\n",
    "2. Собственные числа и соответствующие им собственные векторы получаются следующие:\n",
    "$$\\lambda_1 = 1 + \\sqrt{a\\epsilon}, \\qquad v_1=\\left(1, \\sqrt{\\dfrac{\\epsilon}{a}}\\right)^T$$\n",
    "$$\\lambda_2 = 1 - \\sqrt{a\\epsilon}, \\qquad v_2=\\left(-1, \\sqrt{\\dfrac{\\epsilon}{a}}\\right)^T$$\n",
    "\n",
    "3. В случае когда $\\epsilon=0$ матрица не диагонализуемая. У нее 1 ненулевой собственный вектор $v=(1, 0)^T$ и собственное число $\\lambda=1$ кратности 2. Можно найти присоединенный вектор $p$ из уравнения:\n",
    "\n",
    "$$(A-\\lambda I)p=v \\quad \\Rightarrow \\quad p = \\left(0, \\frac{1}{a}\\right)^T$$\n",
    "\n",
    "**Теперь посмотрим численные результаты:**"
   ]
  },
  {
   "cell_type": "code",
   "execution_count": 11,
   "metadata": {},
   "outputs": [
    {
     "name": "stdout",
     "output_type": "stream",
     "text": [
      "[1. 1.]\n",
      "[[ 1.0000000e+00 -1.0000000e+00]\n",
      " [ 0.0000000e+00  4.4408921e-17]]\n"
     ]
    }
   ],
   "source": [
    "a = 5.\n",
    "eps = 0.\n",
    "A = np.array([[1., a], [eps, 1.]], dtype=np.float64)\n",
    "eigenvalues, eigenvectors = np.linalg.eig(A)\n",
    "print(eigenvalues)\n",
    "print(eigenvectors)"
   ]
  },
  {
   "cell_type": "code",
   "execution_count": 12,
   "metadata": {},
   "outputs": [
    {
     "name": "stdout",
     "output_type": "stream",
     "text": [
      "[1.00707107 0.99292893]\n",
      "[1.00141421 0.99858579]\n",
      "1e-05\n",
      "\n",
      "[1.02236068 0.97763932]\n",
      "[1.00447214 0.99552786]\n",
      "0.0001\n",
      "\n",
      "[1.07071068 0.92928932]\n",
      "[1.01414214 0.98585786]\n",
      "0.001\n",
      "\n",
      "[1.2236068 0.7763932]\n",
      "[1.04472136 0.95527864]\n",
      "0.01\n",
      "\n",
      "[1.70710678 0.29289322]\n",
      "[1.14142136 0.85857864]\n",
      "0.1\n",
      "\n",
      "[ 3.23606798 -1.23606798]\n",
      "[1.4472136 0.5527864]\n",
      "1.0\n",
      "\n",
      "[ 8.07106781 -6.07106781]\n",
      "[ 2.41421356 -0.41421356]\n",
      "10.0\n",
      "\n",
      "[ 23.36067977 -21.36067977]\n",
      "[ 5.47213595 -3.47213595]\n",
      "100.0\n",
      "\n"
     ]
    }
   ],
   "source": [
    "eps = np.logspace(-5, 2, 8, dtype=np.float64)\n",
    "eigvals_arr = np.empty(shape=(eps.shape[0], 2), dtype=np.float64)\n",
    "eigvecs_arr = np.empty(shape=(eps.shape[0], 2, 2), dtype=np.float64)\n",
    "eigvals_arr_theory = np.empty(shape=(eps.shape[0], 2), dtype=np.float64)\n",
    "norm_eigvec_err = np.empty(shape=(eps.shape[0], 2), dtype=np.float64)\n",
    "for i in range(eps.shape[0]):\n",
    "    A = np.array([[1., a], [eps[i], 1.]], dtype=np.float64)\n",
    "    eigvals_arr[i], eigvecs_arr[i] = np.linalg.eig(A)\n",
    "    v1 = np.array([1, np.sqrt(eps[i]/a)], dtype=np.float64)\n",
    "    v1 /= np.linalg.norm(v1, 2)\n",
    "    v2 = np.array([-1, np.sqrt(eps[i]/a)], dtype=np.float64)\n",
    "    v2 /= np.linalg.norm(v2, 2)\n",
    "    eigvals_arr_theory[i] = np.array([1 + np.sqrt(eps[i] / a), 1 - np.sqrt(eps[i] / a)], dtype=np.float64)\n",
    "    norm_eigvec_err[i] = np.array([np.linalg.norm(v1-eigvecs_arr[i, :, 0], 2), np.linalg.norm(v2-eigvecs_arr[i, :, 1], 2)], dtype=np.float64)\n",
    "    print(eigvals_arr[i])\n",
    "    print(eigvals_arr_theory[i])\n",
    "    print(eps[i])\n",
    "    print()"
   ]
  },
  {
   "cell_type": "code",
   "execution_count": 13,
   "metadata": {},
   "outputs": [
    {
     "data": {
      "image/png": "[encoded data removed]",
      "text/plain": [
       "<Figure size 1300x400 with 2 Axes>"
      ]
     },
     "metadata": {},
     "output_type": "display_data"
    }
   ],
   "source": [
    "fig1 = plt.figure(figsize=[13,4])\n",
    "\n",
    "ax_1 = fig1.add_subplot(121)\n",
    "ax_1.set_title('Ошибка в собственном числе')\n",
    "ax_1.scatter(eps, eigvals_arr[:, 0], label=r'Numerical $\\lambda_1$')\n",
    "ax_1.scatter(eps, eigvals_arr[:, 1], label=r'Numerical $\\lambda_2$')\n",
    "ax_1.plot(eps, eigvals_arr_theory[:, 0], 'r--', label=r'Theory $\\lambda_1$')\n",
    "ax_1.plot(eps, eigvals_arr_theory[:, 1], 'g--', label=r'Theory $\\lambda_2$')\n",
    "ax_1.plot(eps, [1]*eps.shape[0], 'k--', label=r'Initial $\\lambda$')\n",
    "ax_1.set_xlabel(r'$\\epsilon$ - value')\n",
    "ax_1.set_ylabel('Eigenvalues')\n",
    "ax_1.set_xscale('log')\n",
    "ax_1.legend()\n",
    "ax_1.grid()\n",
    "\n",
    "ax_2 = fig1.add_subplot(122)\n",
    "ax_2.set_title('Квадратичная норма ошибки в собственном векторе')\n",
    "ax_2.scatter(eps, norm_eigvec_err[:, 0], label=r'$v1$')\n",
    "ax_2.scatter(eps, norm_eigvec_err[:, 1], label=r'$v2$')\n",
    "ax_2.set_xlabel(r'$\\epsilon$ - value')\n",
    "ax_2.set_ylabel('2-norm of error')\n",
    "ax_2.set_xscale('log')\n",
    "ax_2.grid()\n",
    "\n",
    "plt.show()"
   ]
  },
  {
   "cell_type": "markdown",
   "metadata": {},
   "source": [
    "### Задание 11"
   ]
  },
  {
   "cell_type": "markdown",
   "metadata": {},
   "source": [
    "*Реализуйте QR алгоритм со сдвигами для симметричной матрицы $A$. Экспериментально проверьте скорость сходимости. Сравните со скорость сходимости степенного метода.*"
   ]
  },
  {
   "cell_type": "code",
   "execution_count": 14,
   "metadata": {},
   "outputs": [
    {
     "name": "stdout",
     "output_type": "stream",
     "text": [
      "Форма Шура R:\n",
      "[[ 5.1451  0.     -0.    ]\n",
      " [ 0.      3.524   0.    ]\n",
      " [ 0.     -0.      0.3309]]\n",
      "\n",
      "Унитарная матрица U:\n",
      "[[ 0.5932 -0.7864  0.172 ]\n",
      " [ 0.6793  0.3744 -0.6312]\n",
      " [ 0.432   0.4913  0.7563]]\n",
      "\n",
      "Проверка A = U@R@U^T:\n",
      "[[ 4.  1. -0.]\n",
      " [ 1.  3.  2.]\n",
      " [-0.  2.  2.]]\n"
     ]
    }
   ],
   "source": [
    "# Тест\n",
    "A = np.array([[4, 1, 0],\n",
    "              [1, 3, 2],\n",
    "              [0, 2, 2]])\n",
    "\n",
    "R, U = qr_algorithm_with_shifts(A, 200)\n",
    "\n",
    "print(\"Форма Шура R:\")\n",
    "print(np.round(R, 4))\n",
    "print(\"\\nУнитарная матрица U:\")\n",
    "print(np.round(U, 4))\n",
    "print(\"\\nПроверка A = U@R@U^T:\")\n",
    "print(np.round(U @ R @ U.T, 4))"
   ]
  },
  {
   "cell_type": "code",
   "execution_count": 17,
   "metadata": {},
   "outputs": [
    {
     "name": "stdout",
     "output_type": "stream",
     "text": [
      "[[ 0 -4 -2  0]\n",
      " [-4  3 -7 -6]\n",
      " [-2 -7  3  2]\n",
      " [ 0 -6  2 -1]]\n"
     ]
    }
   ],
   "source": [
    "A = np.random.randint(low=-9, high=10, size=(4, 4))# + 20*np.eye(4)\n",
    "A = (A + A.T) // 2\n",
    "print(A)"
   ]
  },
  {
   "cell_type": "code",
   "execution_count": 19,
   "metadata": {},
   "outputs": [
    {
     "name": "stdout",
     "output_type": "stream",
     "text": [
      "Форма Шура R:\n",
      "[[12.6807 -0.     -0.     -0.    ]\n",
      " [ 0.     -8.0536  0.     -0.    ]\n",
      " [ 0.     -0.      2.5604 -0.    ]\n",
      " [ 0.      0.      0.     -2.1875]]\n",
      "\n",
      "Унитарная матрица U:\n",
      "[[ 0.1346 -0.433   0.7973 -0.3984]\n",
      " [-0.7103 -0.663  -0.2364  0.0077]\n",
      " [ 0.5673 -0.4176 -0.548  -0.4511]\n",
      " [ 0.3944 -0.4456  0.0905  0.7986]]\n",
      "\n",
      "Проверка A = U@R@U^T:\n",
      "[[-0. -4. -2. -0.]\n",
      " [-4.  3. -7. -6.]\n",
      " [-2. -7.  3.  2.]\n",
      " [-0. -6.  2. -1.]]\n"
     ]
    }
   ],
   "source": [
    "R, U = qr_algorithm_with_shifts(A, max_iter=100)\n",
    "\n",
    "print(\"Форма Шура R:\")\n",
    "print(np.round(R, 4))\n",
    "print(\"\\nУнитарная матрица U:\")\n",
    "print(np.round(U, 4))\n",
    "print(\"\\nПроверка A = U@R@U^T:\")\n",
    "print(np.round(U @ R @ U.T, 4))"
   ]
  },
  {
   "cell_type": "markdown",
   "metadata": {},
   "source": [
    "### Задание 13"
   ]
  },
  {
   "cell_type": "markdown",
   "metadata": {},
   "source": [
    "*Предложите и реализуйте метод вычисления [сингулярного (SVD) разложения](https://en.wikipedia.org/wiki/Singular_value_decomposition), используя разложение Шура. Постарайтесь избежать вычисления матриц $AA^T$ и $A^TA$.*"
   ]
  }
 ],
 "metadata": {
  "kernelspec": {
   "display_name": "Python 3",
   "language": "python",
   "name": "python3"
  },
  "language_info": {
   "codemirror_mode": {
    "name": "ipython",
    "version": 3
   },
   "file_extension": ".py",
   "mimetype": "text/x-python",
   "name": "python",
   "nbconvert_exporter": "python",
   "pygments_lexer": "ipython3",
   "version": "3.12.7"
  },
  "orig_nbformat": 2
 },
 "nbformat": 4,
 "nbformat_minor": 2
}
