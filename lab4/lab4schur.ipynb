{
 "cells": [
  {
   "cell_type": "code",
   "execution_count": 1,
   "metadata": {},
   "outputs": [],
   "source": [
    "import numpy as np\n",
    "from scipy.linalg import norm, schur\n",
    "from lab4_algorithms import*\n",
    "import matplotlib.pylab as plt\n",
    "%matplotlib inline"
   ]
  },
  {
   "cell_type": "markdown",
   "metadata": {},
   "source": [
    "# Разложение Шура\n",
    "\n",
    "Любую квадратную матрицу $A$ можно преобразованием $U$ подобия привести к верхнетреугольной матрице $R$,\n",
    "причем преобразование $U$ можно выбрать унитарным (ортогональным для вещественных матриц):\n",
    "$$A=URU^*,\\quad U^*AU=R,\\quad UU^*=U^*U=1,$$\n",
    "такое представление матрицы называется [разложением Шура](https://en.wikipedia.org/wiki/Schur_decomposition).\n",
    "Здесь и далее мы будем обозначать единичную матрицу подходящего размера через $1$,\n",
    "а сопряженную матрицу к $A$ через $A^*$.\n",
    "Элементы сопряженной матрицы получаются транспонирование матрицы с последующим комплексным сопряжением:\n",
    "$$\n",
    "A^*=\\bar A^T,\\quad (A^*)_{nk}=\\overline{A_{kn}}. \n",
    "$$ \n",
    "Столбцы матрицы преобразования $U$ называются векторами Шура."
   ]
  },
  {
   "cell_type": "markdown",
   "metadata": {},
   "source": [
    "## Задания.\n",
    "\n",
    "1. Какой смысл имеют диагональные элементы матрицы $R$?\n",
    "\n",
    "2. В каком случае вектора Шура оказываются собственными векторами?\n",
    "\n",
    "3. Покажите, что сумма квадратов абсолютных значений всех недиагональных элементов матрицы $R$ не зависит от выбора $U$ и определяется только матрицей $A$:\n",
    "$$ N = \\sum_{n}\\sum_{k>n} |R_{nk}|^2.$$\n",
    "Какой смысл вы можете придать этой сумме?"
   ]
  },
  {
   "cell_type": "markdown",
   "metadata": {},
   "source": [
    "Первый вектор Шура всегда является собственным, поэтому мы можем построить наивную процедуру\n",
    "вычисления разложения Шура, имея способ вычисления собственных чисел и векторов.\n",
    "Проще всего оказывается вычислить самое большое по модулю собственное значение матрицы (спектральный радиус),\n",
    "для этого можно воспользоваться [методом степеней](https://en.wikipedia.org/wiki/Power_iteration).\n",
    "Суть метода заключается в вычислении последовательности:\n",
    "$$e_{n+1}=\\frac{Ae_n}{\\|Ae_n\\|},$$\n",
    "которая при определенных условиях сходится к собственному вектору, отвечающему максимальному по модулю собственому значению $A$. "
   ]
  },
  {
   "cell_type": "markdown",
   "metadata": {},
   "source": [
    "## Задания.\n",
    "\n",
    "4. Предложите достаточные условия сходимости степенного метода.\n",
    "\n",
    "5. Реализуйте степенной метод. Для проверки результата воспользуйтесь функцией \n",
    "[scipy.linalg.norm(A, ord=2)](https://docs.scipy.org/doc/scipy/reference/generated/scipy.linalg.norm.html),\n",
    "которая на квадратной матрице $A$ возвращает ее спектральных радиус.\n",
    "\n",
    "6. Первый вектор Шура находится степенным методом, как можно найти второй вектор Шура? \n",
    "__Указание:__ Рассмотрите подматрицу $A_{2\\colon,2\\colon}$.\n",
    "\n",
    "7. Реализуйте функцию для построения разложения Шура с помощью степенного метода. В каких случаях алгоритм сойдется? В каких случаях сойдется к разложению Шура? С какой скоростью итерации сходятся в случае сходимости?\n",
    "\n",
    "8. Обобщите степенной метод так, чтобы одновременно вычислялось несколько собственных векторов. \n",
    "Реализуйте эту модификацию. Какие условия являются достаточными для сходимости вашего метода."
   ]
  },
  {
   "cell_type": "markdown",
   "metadata": {},
   "source": [
    "Задача вычисления собственных чисел может быть плохо обусловлена для матрицы общего вида. \n",
    "Наибольшую трудность представляют близкие собственные значения и вырожденные собственные значения. \n",
    "Проведите несколько экспериментов, используя библиотечную функцию для вычисления разложения Шура \n",
    "[scipy.linalg.schur](https://docs.scipy.org/doc/scipy/reference/generated/scipy.linalg.schur.html).\n"
   ]
  },
  {
   "cell_type": "markdown",
   "metadata": {},
   "source": [
    "## Задания.\n",
    "\n",
    "9. Предложите матрицу, у которой левый и правый собственные вектора для одного собственного значения почти ортогональны. Добавляя малое возмущение к матрице (можно воспользоваться [numpy.random.randn](https://numpy.org/doc/stable/reference/random/generated/numpy.random.randn.html)) и находя собственные значения для возмущенной матрицы через `scipy.linalg.schur` оцените число обусловленности для вычисления собственного числа. Сравните с теорией.\n",
    "\n",
    "10. Рассмотрите малое возмущение $\\epsilon$ для матрицы \n",
    "$$A=\\begin{pmatrix}1&a\\\\\\epsilon&1\\end{pmatrix},$$\n",
    "где $a$ - параметр. Насколько сильно возущение изменяет собственные значения?\n",
    "Собственные вектора (`scipy.linalg.eig`)?"
   ]
  },
  {
   "cell_type": "markdown",
   "metadata": {},
   "source": [
    "На практике для вычисления разложения Шура как правило используется [UR алгоритм](https://en.wikipedia.org/wiki/QR_algorithm) и его варианты. \n",
    "Мы ограничимся изучением этого метода только для симметричных матриц.\n",
    "\n",
    "Пусть матрица $A$ имеет только вещественные коэффициенты и симметрична, т.е. $A^T=A$.\n",
    "В этом случае матрица $R$ в разложение Шура для матрица $A$ оказывается диагональным, т.е. выполняется спектральное разложение.\n",
    "\n",
    "Перед выполнение QR алгоритма матрица $A$ приводится преобразованием подобия к более простому виду $A_0=VAV^T$,\n",
    "как правило к виду [матрицы Хессенберга](https://en.wikipedia.org/wiki/Hessenberg_matrix).\n",
    "Преобразование $V$ можно представить, например, в виде цепочки [вращений Гивенса](https://en.wikipedia.org/wiki/Givens_rotation).\n",
    "На одном шаге QR алгоритма строится QR разложение матрицы $A_n=Q_nR_n$,\n",
    "затем матрицы из разложения перемножаются в обратном порядке, формируя новый член последовательности:\n",
    "$A_{n+1}=R_nQ_n$.\n",
    "Все матрицы в последовательности подобны: $A_{n+1}=Q_n^TA_nQ_n$.\n",
    "Итерации повторяются до тех пор, пока матрица $A_n$ не станет достаточно треугольной.\n",
    "\n",
    "В наивном варианте QR алгоритм не всегда сходится, однако ситуацию можно исправить, добавив в сдвиги.\n",
    "На каждом шаге алгоритма будем строить QR разложение для $A_n-\\zeta_n=Q_nR_n$ с подходящим $\\zeta_n$.\n",
    "Следующий член последовательности определим так $A_{n+1}=R_nQ_n+\\zeta_n$.\n",
    "Последовательность $\\zeta_n$ выбирается так, чтобы $\\zeta_n$ сходилось к минимальному собственному числу,\n",
    "например, полагая $\\zeta_n$ равным элементу $R$ из последнего столбца и строки.\n",
    "В этому случае итерации почти всегда сходятся и дают кубическую скорость сходимости."
   ]
  },
  {
   "cell_type": "markdown",
   "metadata": {},
   "source": [
    "## Задания.\n",
    "\n",
    "11. Реализуйте QR алгоритм со сдвигами для симметричной матрицы $A$. \n",
    "Экспериментально проверьте скорость сходимости. \n",
    "Сравните со скорость сходимости степенного метода.\n",
    "\n",
    "12. **(повышенная сложность)** Реализуйте неявный QR алгоритм. Сравните его работу с работой явного метода.\n",
    "\n",
    "13. Предложите и реализуйте метод вычисления [сингулярного (SVD) разложения](https://en.wikipedia.org/wiki/Singular_value_decomposition), используя разложение Шура. Постарайтесь избежать вычисления матриц $AA^T$ и $A^TA$."
   ]
  },
  {
   "cell_type": "markdown",
   "metadata": {},
   "source": [
    "# Решения"
   ]
  },
  {
   "cell_type": "markdown",
   "metadata": {},
   "source": [
    "### Задание 1"
   ]
  },
  {
   "cell_type": "markdown",
   "metadata": {},
   "source": [
    "*Какой смысл имеют диагональные элементы матрицы $R$?*\n",
    "\n",
    "Диагональные элементы матрицы $R$ являются ее собственными числами, а также собственными числами исходной матрицы $A$. Покажем это (пишем характеристическое уравнение):\n",
    "\n",
    "$$0 = \\det (A-\\lambda I) = \\det(URU^H-\\lambda I) = \\det(URU^H-U\\lambda IU^H) = \\det(R-\\lambda I)$$\n",
    "\n",
    "Значит $spec(A)=spec(R)$\n",
    "\n",
    "Т.к. матрица $R$ - верхнетреугольная, то $\\det(R-\\lambda I)=\\prod\\limits_k(R_{kk}-\\lambda)=0$ - т.е. на диагонали матрицы $R$ находятся собственные числа матрицы $R$ (и соответственно $A$)."
   ]
  },
  {
   "cell_type": "markdown",
   "metadata": {},
   "source": [
    "### Задание 2"
   ]
  },
  {
   "cell_type": "markdown",
   "metadata": {},
   "source": [
    "*В каком случае вектора Шура оказываются собственными векторами?*\n",
    "\n",
    "Векторы Шура - столбцы матрицы $U$ ($u_i = U\\cdot e_i$), где $e_1=[1, 0, 0, ..., 0]^T, e_2=...$.\n",
    "\n",
    "**Заметим, что в общем случае:**\n",
    "\n",
    "- Первый вектор Шура всегда собственный, т.к. $Au_1=AUe_1=URU^HUe_1=URe_1=R_{11}Ue_1=R_{11}u_1$\n",
    "- Если над $k$-ым диагональным элементом в матрице $R$ стоят только нули, то вектор $u_k$ тоже собственный. Доказательство аналогичное предыдущему ($Au_k=R_{kk}u_k$).\n",
    "\n",
    "**Если матрица диагональная:**\n",
    "\n",
    "Тривиальный случай, на диагоналях сразу стояю все собственные числа. Разложение тривиально. Матрица $U=I$ и все векторы собственные.\n",
    "\n",
    "**Если матрица нормальная (оператор нормальный):**\n",
    "\n",
    "(1) $AA^H=U^HRU\\cdot(U^HRU)^H=U^HRUU^HR^HU=U^HRR^HU$\n",
    "\n",
    "(2) $A^HA=(U^HRU)^H\\cdot U^HRU=U^HR^HUU^HRU=U^HR^HRU$\n",
    "\n",
    "Выражения (1) и (2) должны быть равны --> $RR^H=R^HR$. Смотрим диагональный элемент каждой матрицы:\n",
    "\n",
    "$$(RR^H)_{ii}=\\sum\\limits_{k\\geq i} R_{ik}\\cdot R^*_{ik} = \\sum\\limits_{k \\leq i} R_{ki}\\cdot R^*_{ki} =(R^HR)_{ii}$$\n",
    "\n",
    "$$\\sum\\limits_{k\\geq i} |R_{ik}|^2 = \\sum\\limits_{k \\leq i} |R_{ki}|^2$$\n",
    "\n",
    "Расписываем сумму для $i=1$, с учетом того, что $R$ - **верхнетреугольная**:\n",
    "\n",
    "$$|R_{11}|^2+|R_{12}|^2+|R_{13}|^2+...=|R_{11}|^2$$\n",
    "\n",
    "Тогда, вычев правую часть из левой получится, что $|R_{12}|^2+|R_{13}|^2+...=0$, значит $\\forall k>1 R_{1k}=0$.\n",
    "\n",
    "Данную процедуру можно продолжить для $i=2, 3, ...$. Значит матрица $R$ - диагональна.\n",
    "\n",
    "Тогда из выкладки в задании 1 получается, что элементы матрицы $R$ - собственные числа. Каждый вектор Шура домножается на только одно собственное число. Значит векторы Шура в этом случае являются собственными. (Разложение совпадает со спектральным)"
   ]
  },
  {
   "cell_type": "markdown",
   "metadata": {},
   "source": [
    "### Задание 3"
   ]
  },
  {
   "cell_type": "markdown",
   "metadata": {},
   "source": [
    "*Покажите, что сумма квадратов абсолютных значений всех недиагональных элементов матрицы $R$ не зависит от выбора $U$ и определяется только матрицей $A$:*\n",
    "$$ N = \\sum_{i}\\sum_{k>i} |R_{ik}|^2.$$\n",
    "*Какой смысл вы можете придать этой сумме?*\n",
    "\n",
    "**Доказательство:**\n",
    "\n",
    "1. Пусть матрица $A$ имеет 2 разложения Шура: $A=V^HSV$ и $A=U^HRU$. Тогда можно записать равенство:\n",
    "\n",
    "$$SVU^H=VU^HR$$\n",
    "\n",
    "Обозначим за $W=VU^H$, тогда можно записать в виде $(W^HS^H)^H=WR$. Заметим, что $W$ - унитарное преобразование (как композиция унитарных).\n",
    "\n",
    "2. Еще заметим, что диагональные элементы матриц $R$ и $S$ совпадают, тк эти матрицы получены разложением Шура.\n",
    "\n",
    "3. Знаем, что унитарное преобразование не меняет норму вектора, значит (учитывая, что $R$ - верхнетреугольная, а $S^H$ - нижнетреугольная)\n",
    "\n",
    "$$\\forall i: \\sum_{k\\leq i} |R_{ki}|^2 = \\sum_{k} |(WR)_{ki}|^2$$\n",
    "\n",
    "$$\\forall i: \\sum_{k\\geq i} |S^H_{ki}|^2 = \\sum_{k} |(W^HS^H)_{ki}|^2$$\n",
    "\n",
    "Правые части данных выражений равны по пункту 1. Значит равны и левые.\n",
    "\n",
    "4. Теперь просуммируем равенство по всем $i$:\n",
    "\n",
    "$$\\sum_{i}\\sum_{k\\leq i} |R_{ki}|^2 = \\sum_{i}\\sum_{k\\geq i} |S^H_{ki}|^2$$\n",
    "\n",
    "Так как диагональные элементы матриц совпадают (пункт 2), то можно их убрать из суммы и элементы матрицы $S^H$ выразить через элементы матрицы $S$:\n",
    "\n",
    "$$\\sum_{i}\\sum_{k<i} |R_{ki}|^2 = \\sum_{i}\\sum_{k<i} |S_{ki}|^2$$\n",
    "\n",
    "Это и есть требуемое равенство с точностью до перестановки порядка суммирования.\n",
    "\n",
    "**Интерпретация данной величины:**\n",
    "\n",
    "$\\beta = \\sum_{i}\\sum_{k<i} |R_{ki}|^2$ в случае, когда исходная матрица нормальная будет равна 0. Тогда данную величину $\\beta$ можно назвать мерой отклонения исходной матрицы $A$ от нормальной."
   ]
  },
  {
   "cell_type": "markdown",
   "metadata": {},
   "source": [
    "### Задание 4"
   ]
  },
  {
   "cell_type": "markdown",
   "metadata": {},
   "source": [
    "*Предложите достаточные условия сходимости степенного метода.*\n",
    "\n",
    "**Note:** Сразу откинем из рассмотрения случай, когда спектр комплексный. В таком случае максимальному по модулю собственному числу будет соответствовать его сопряженное, которое тоже будет решением характеристического уравнения. Поэтому сходимости метода может и не быть.\n",
    "\n",
    "Если спектр матрицы вещественный, то можно предложить следующее утверждение:\n",
    "\n",
    "**Утв.** Метод степеней сходится для матрицы $A$ с вещественным спектром, если $\\exists \\lambda_1 \\in \\text{spec}(A): \\forall i = 2,...,N \\quad |\\lambda_1| > |\\lambda_i|$\n",
    "\n",
    "**Док-во:**\n",
    "\n",
    "0. Метод можно описать формулой: $x^{(n+1)}=\\frac{Ax^{(n)}}{\\|Ax^{(n)}\\|}$\n",
    "\n",
    "1. Пусть $\\{e_i\\}^N_{i=1}$ - ортонормированный собственный базис. Мы выбираем случайный вектор, который можно разложить по этому базису: $x^{(0)}=\\sum\\limits_{i=1}^N\\alpha_i e_i$.\n",
    "\n",
    "2. Смотрим что происходит на $n+1$ шаге:\n",
    "\n",
    "- $Ax^{(n)}=\\lambda_1^{n+1}\\alpha_1 e_1 + \\sum\\limits_{i=2}^N \\lambda_i^{n+1}\\alpha_i e_i$\n",
    "\n",
    "- $\\|Ax^{(n)}\\|=|\\lambda_1|^{n+1}\\sqrt{\\alpha_1^2 + \\sum\\limits_{i=2}^N\\alpha_i^2 |\\frac{\\lambda_i^{n+1}}{\\lambda_1^{n+1}}|^2}$\n",
    "\n",
    "3. Посмотрим отличие от искомого вектора $e_1$:\n",
    "\n",
    "$$\\|x^{(n+1)}-e_1\\|=\\left\\|\\dfrac{\\lambda_1^{n+1}\\alpha_1 e_1 + \\sum\\limits_{i=2}^N \\lambda_i^{n+1}\\alpha_i e_i}{|\\lambda_1|^{n+1}\\sqrt{\\alpha_1^2 + \\sum\\limits_{i=2}^N\\alpha_i^2 |\\frac{\\lambda_i^{n+1}}{\\lambda_1^{n+1}}|^2}} - e_1\\right\\| \\approx \\left\\|\\dfrac{\\lambda_1^{n+1}\\alpha_1 e_1 + \\sum\\limits_{i=2}^N \\lambda_i^{n+1}\\alpha_i e_i}{|\\lambda_1|^{n+1}|\\alpha_1|} - e_1\\right\\| =$$\n",
    "\n",
    "$$= \\left\\|\\text{sgn}(\\lambda_1^{n+1}\\alpha_1) e_1 + \\sum\\limits_{i=2}^N \\text{sgn}(\\lambda_i^{n+1}\\alpha_i)|\\frac{\\lambda_i^{n+1}}{\\lambda_1^{n+1}}|\\cdot|\\frac{\\alpha_i}{\\alpha_1}| e_i - e_1\\right\\|$$\n",
    "\n",
    "Нам не важно направление (знак) вектора $e_1$, который мы ищем, поэтому выберем его равным $\\text{sgn}(\\lambda_1^{n+1}\\alpha_1)$, тогда ошибка метода степеней получется:\n",
    "\n",
    "$$\\|x^{(n+1)}-e_1\\|=\\left\\|\\sum\\limits_{i=2}^N \\text{sgn}(\\lambda_i^{n+1}\\alpha_i)|\\frac{\\lambda_i^{n+1}}{\\lambda_1^{n+1}}|\\cdot|\\frac{\\alpha_i}{\\alpha_1}| e_i\\right\\| = O\\left(\\max_i\\left|\\frac{\\lambda_i}{\\lambda_1}\\right|^{n+1}\\right) \\rightarrow 0 \\quad (n \\rightarrow +\\infty)$$\n",
    "\n",
    "4. Значит метод будет сходиться к $e_1$ в этом случае."
   ]
  },
  {
   "cell_type": "markdown",
   "metadata": {},
   "source": [
    "### Задание 5"
   ]
  },
  {
   "cell_type": "markdown",
   "metadata": {},
   "source": [
    "*Реализуйте степенной метод. Для проверки результата воспользуйтесь функцией [scipy.linalg.norm(A, ord=2)](https://docs.scipy.org/doc/scipy/reference/generated/scipy.linalg.norm.html), которая на квадратной матрице $A$ возвращает ее спектральных радиус.*"
   ]
  },
  {
   "cell_type": "code",
   "execution_count": 2,
   "metadata": {},
   "outputs": [
    {
     "name": "stdout",
     "output_type": "stream",
     "text": [
      "Power iteration: (1.000000002762194, array([0.70710677, 0.70710679]))\n",
      "Scipy norm: 1.047871858499512\n",
      "Power iteration: (0.5, array([1.00000000e+00, 7.69218519e-09]))\n",
      "Scipy norm: 0.5\n"
     ]
    }
   ],
   "source": [
    "A = np.array([[0.5, 0.5], [0.2, 0.8]])\n",
    "B = np.array([[0.5, 0], [0, 0.1]])\n",
    "print(\"Power iteration:\", power_iteration(A))\n",
    "print(\"Scipy norm:\", norm(A, 2))\n",
    "print(\"Power iteration:\", power_iteration(B, 30))\n",
    "print(\"Scipy norm:\", norm(B, 2))"
   ]
  },
  {
   "cell_type": "code",
   "execution_count": 3,
   "metadata": {},
   "outputs": [
    {
     "name": "stdout",
     "output_type": "stream",
     "text": [
      "norm(A, 2)  :  1.368052545662319\n",
      "eigenvalues :  [-1.06731753  1.36805255  0.49926498]\n",
      "ref eigvec  :  [ 0.82186978  0.48628486 -0.29674418]\n"
     ]
    }
   ],
   "source": [
    "A = np.array([[1, 0.5, -0.2], [0.3, 0.8, -0.1], [-0.5, -0.6, -1]])\n",
    "# A = np.random.randint(low=0, high=20,size=(10, 10))\n",
    "# ref_eigval = norm(A, 2)\n",
    "tmp = np.linalg.eig(A)\n",
    "ref_eigvec = tmp.eigenvectors[:, np.argmax(np.abs(tmp.eigenvalues))]\n",
    "ref_eigval = tmp.eigenvalues[np.argmax(np.abs(tmp.eigenvalues))]\n",
    "num_iter = np.linspace(10, 50, 20, dtype=np.int32)\n",
    "print(\"norm(A, 2)  : \", ref_eigval)\n",
    "print(\"eigenvalues : \", tmp.eigenvalues)\n",
    "print(\"ref eigvec  : \", ref_eigvec)\n",
    "\n",
    "eigval_err = np.empty_like(num_iter, dtype=np.float64)\n",
    "eigvec_err = np.empty_like(num_iter, dtype=np.float64)\n",
    "for i in range(num_iter.shape[0]):\n",
    "    eigval, eigvec = power_iteration(A, max_iter=num_iter[i], tol=0)\n",
    "    eigval_err[i] = np.abs(ref_eigval-eigval)\n",
    "    eigvec_err[i] = np.mean(np.abs(ref_eigvec-eigvec))"
   ]
  },
  {
   "cell_type": "code",
   "execution_count": 4,
   "metadata": {},
   "outputs": [],
   "source": [
    "ref_convergence = (1.06731753 / 1.36805255)**num_iter"
   ]
  },
  {
   "cell_type": "code",
   "execution_count": 5,
   "metadata": {},
   "outputs": [
    {
     "data": {
      "image/png": "[encoded data removed]",
      "text/plain": [
       "<Figure size 1300x400 with 2 Axes>"
      ]
     },
     "metadata": {},
     "output_type": "display_data"
    }
   ],
   "source": [
    "fig1 = plt.figure(figsize=[13,4])\n",
    "\n",
    "ax_1 = fig1.add_subplot(121)\n",
    "ax_1.set_title('Ошибка в собственном числе')\n",
    "ax_1.scatter(num_iter, eigval_err)\n",
    "ax_1.set_xlabel('Количество итераций')\n",
    "ax_1.set_ylabel('Абс. ошибка')\n",
    "ax_1.grid()\n",
    "\n",
    "ax_2 = fig1.add_subplot(122)\n",
    "ax_2.set_title('Ошибка в собственном векторе')\n",
    "ax_2.plot(num_iter, ref_convergence, 'r--', label=r'converg. speed $|\\lambda_2/\\lambda_1|^n$')\n",
    "ax_2.scatter(num_iter, eigvec_err)\n",
    "ax_2.set_xlabel('Количество итераций')\n",
    "ax_2.set_ylabel('Средняя Абс. ошибка')\n",
    "ax_2.legend()\n",
    "ax_2.grid()\n",
    "\n",
    "plt.show()"
   ]
  },
  {
   "cell_type": "markdown",
   "metadata": {},
   "source": [
    "### Задание 6"
   ]
  },
  {
   "cell_type": "markdown",
   "metadata": {},
   "source": [
    "*Первый вектор Шура находится степенным методом, как можно найти второй вектор Шура? (Указание: Рассмотрите подматрицу $A_{2\\colon,2\\colon}$.)*"
   ]
  },
  {
   "cell_type": "markdown",
   "metadata": {},
   "source": [
    "**Идея:** \n",
    "- Найденный собственный вектор $e_1$ (он равен первому вектору Шура $u_1=e_1$) запишем в матрирцу $B=(u_1|(\\delta_{i2})|(\\delta_{i3})|...)$.\n",
    "- Затем выполним для нее QR-разложение матрицы $B$.\n",
    "- Рассмотрим матрицу Q. Ее первый столбец останется равным $e_1$, а остальные столбцы будут образовывать ортонормированный базис.\n",
    "- Применим к матрице A (исходной) преобразование: $Q^TAQ$ первый столбец будет содержать 1 в самом первом элементе и 0 в остальных элементах.\n",
    "- Рассмотрим подматрицу $Q^TAQ$[2:N, 2:N]. Найдем для нее собственный вектор методом степеней - $q_1$.\n",
    "- Находим собственный вектор в исходном базисе: $u_2=Q\\cdot [0 | q_1^T]^T$, который будет ортогонален $u_1$.\n",
    "\n",
    "Такой алгоритм можно продолжить иттерационно. Далее у нас будет матрица $B=(u_1|u_2|(\\delta_{i3})|...)$"
   ]
  },
  {
   "cell_type": "markdown",
   "metadata": {},
   "source": [
    "### Задание 7"
   ]
  },
  {
   "cell_type": "markdown",
   "metadata": {},
   "source": [
    "*Реализуйте функцию для построения разложения Шура с помощью степенного метода. В каких случаях алгоритм сойдется? В каких случаях сойдется к разложению Шура? С какой скоростью итерации сходятся в случае сходимости?*"
   ]
  },
  {
   "cell_type": "code",
   "execution_count": 6,
   "metadata": {},
   "outputs": [
    {
     "name": "stdout",
     "output_type": "stream",
     "text": [
      "U:\n",
      " [[-0.81710531 -0.52328662  0.24188845]\n",
      " [-0.54402721  0.56112254 -0.62383964]\n",
      " [-0.19071788  0.64133658  0.74317837]]\n",
      "R:\n",
      " [[ 4.85252352e+00 -4.99071678e-01 -4.48898029e-01]\n",
      " [ 3.19178104e-08  2.72651498e+00 -4.35221750e-01]\n",
      " [ 7.61441786e-16  1.86535605e-08  1.42096150e+00]]\n",
      "Check A = UTU*:\n",
      " [[-8.88178420e-16 -1.66533454e-15 -5.55111512e-16]\n",
      " [-2.22044605e-15  4.44089210e-16 -2.22044605e-16]\n",
      " [-6.30807125e-16  0.00000000e+00 -2.22044605e-16]]\n",
      "U:\n",
      " [[-0.44914143  0.65286248  0.54614281 -0.2716074 ]\n",
      " [-0.54614281  0.27160742 -0.44914144  0.65286248]\n",
      " [-0.54614281 -0.2716074  -0.44914143 -0.65286248]\n",
      " [-0.44914145 -0.65286248  0.54614281  0.27160741]]\n",
      "R:\n",
      " [[ 3.07580158e+00 -2.66200125e-08 -8.96269015e-17 -4.45792545e-16]\n",
      " [-2.66200126e-08  8.20304487e-01  2.51768165e-09  1.78408404e-16]\n",
      " [ 7.20375466e-17  2.51768157e-09  9.89855068e-02  6.64868233e-10]\n",
      " [-2.05113771e-16  1.26830132e-16  6.64868287e-10  4.90842999e-03]]\n",
      "Check B = UTU*:\n",
      " [[ 0.00000000e+00  2.22044605e-16 -2.22044605e-16 -1.11022302e-16]\n",
      " [ 1.11022302e-16  2.22044605e-16 -1.11022302e-16  1.11022302e-16]\n",
      " [-3.33066907e-16  0.00000000e+00 -1.11022302e-16  1.11022302e-16]\n",
      " [-3.33066907e-16 -2.22044605e-16  0.00000000e+00  2.22044605e-16]]\n"
     ]
    }
   ],
   "source": [
    "'''some matrix'''\n",
    "A = np.array([[4, 1, 0.8],\n",
    "              [1, 3, 1], \n",
    "              [0, 1, 2]])\n",
    "\n",
    "R, U = schur_decomposition_power_method(A)\n",
    "print(\"U:\\n\", U)\n",
    "print(\"R:\\n\", R)\n",
    "print(\"Check A = UTU*:\\n\", U @ R @ U.T - A)\n",
    "\n",
    "'''normal matrix'''\n",
    "r = 0.3 # medium (0 - low, 0.3 - medium, 0.9 - high)\n",
    "B = np.array([[1, r**(1/9), r**(4/9), r],\n",
    "              [r**(1/9), 1, r**(1/9), r**(4/9)],\n",
    "              [r**(4/9), r**(1/9), 1, r**(1/9)],\n",
    "              [r, r**(4/9), r**(1/9), 1]])\n",
    "\n",
    "R, U = schur_decomposition_power_method(B)\n",
    "print(\"U:\\n\", U)\n",
    "print(\"R:\\n\", R)\n",
    "print(\"Check B = UTU*:\\n\", U @ R @ U.T - B)"
   ]
  },
  {
   "cell_type": "code",
   "execution_count": 7,
   "metadata": {},
   "outputs": [
    {
     "name": "stdout",
     "output_type": "stream",
     "text": [
      "R_ref:\n",
      " [[ 3.07580158e+00 -4.82578387e-16 -8.84572089e-16  4.44215436e-16]\n",
      " [ 0.00000000e+00  8.20304487e-01 -8.18719537e-17  2.97386092e-16]\n",
      " [ 0.00000000e+00  0.00000000e+00  9.89855068e-02 -7.74558731e-17]\n",
      " [ 0.00000000e+00  0.00000000e+00  0.00000000e+00  4.90842999e-03]]\n",
      "R_my:\n",
      " [[ 3.07580158e+00 -2.66200125e-08 -8.96269015e-17 -4.45792545e-16]\n",
      " [-2.66200126e-08  8.20304487e-01  2.51768165e-09  1.78408404e-16]\n",
      " [ 7.20375466e-17  2.51768157e-09  9.89855068e-02  6.64868233e-10]\n",
      " [-2.05113771e-16  1.26830132e-16  6.64868287e-10  4.90842999e-03]]\n"
     ]
    }
   ],
   "source": [
    "R_ref, U_ref = schur(B)\n",
    "print(\"R_ref:\\n\", R_ref)\n",
    "print(\"R_my:\\n\", R)"
   ]
  },
  {
   "cell_type": "markdown",
   "metadata": {},
   "source": [
    "### Задание 8"
   ]
  },
  {
   "cell_type": "markdown",
   "metadata": {},
   "source": [
    "*Обобщите степенной метод так, чтобы одновременно вычислялось несколько собственных векторов. Реализуйте эту модификацию. Какие условия являются достаточными для сходимости вашего метода.*\n",
    "\n",
    "Голуб - раздел 7.3.2."
   ]
  },
  {
   "cell_type": "code",
   "execution_count": 8,
   "metadata": {},
   "outputs": [
    {
     "name": "stdout",
     "output_type": "stream",
     "text": [
      "eigenvalues:\n",
      " [3.07580158 0.82030449 0.09898551 0.00490843]\n",
      "eigenvectors:\n",
      " [[-0.44914143 -0.65286248  0.54614281 -0.27160741]\n",
      " [-0.54614281 -0.27160741 -0.44914144  0.65286248]\n",
      " [-0.54614281  0.2716074  -0.44914144 -0.65286248]\n",
      " [-0.44914144  0.65286247  0.54614281  0.27160741]]\n",
      "Schur\n",
      "R:\n",
      " [[ 3.07580158e+00 -4.82578387e-16 -8.84572089e-16  4.44215436e-16]\n",
      " [ 0.00000000e+00  8.20304487e-01 -8.18719537e-17  2.97386092e-16]\n",
      " [ 0.00000000e+00  0.00000000e+00  9.89855068e-02 -7.74558731e-17]\n",
      " [ 0.00000000e+00  0.00000000e+00  0.00000000e+00  4.90842999e-03]]\n",
      "U:\n",
      " [[ 0.44914144  0.65286248  0.54614281 -0.27160741]\n",
      " [ 0.54614281  0.27160741 -0.44914144  0.65286248]\n",
      " [ 0.54614281 -0.27160741 -0.44914144 -0.65286248]\n",
      " [ 0.44914144 -0.65286248  0.54614281  0.27160741]]\n"
     ]
    }
   ],
   "source": [
    "lam, vecs = orthogonal_iteration(B, 4)\n",
    "print(\"eigenvalues:\\n\", lam)\n",
    "print(\"eigenvectors:\\n\", vecs)\n",
    "print(\"Schur\")\n",
    "print(\"R:\\n\", R_ref)\n",
    "print(\"U:\\n\", U_ref)"
   ]
  },
  {
   "cell_type": "markdown",
   "metadata": {},
   "source": [
    "### Задание 9"
   ]
  },
  {
   "cell_type": "markdown",
   "metadata": {},
   "source": [
    "*Предложите матрицу, у которой левый и правый собственные вектора для одного собственного значения почти ортогональны. Добавляя малое возмущение к матрице (можно воспользоваться [numpy.random.randn](https://numpy.org/doc/stable/reference/random/generated/numpy.random.randn.html)) и находя собственные значения для возмущенной матрицы через `scipy.linalg.schur` оцените число обусловленности для вычисления собственного числа. Сравните с теорией.*\n",
    "\n",
    "Предлагаемая матрица:\n",
    "\n",
    "$$A=\\begin{pmatrix}1&1000\\\\ 0&2\\end{pmatrix}$$\n",
    "\n",
    "Одно из ее собственных чисел $\\lambda_1=1$. Ему соответствуют левый и правый собственные векторы:\n",
    "\n",
    "$$v_1^{(l)}=(0.001\\quad -1)^T \\qquad v_1^{(r)}=(1\\quad 0)^T$$\n",
    "\n",
    "Их скалярное произведение равно $0.001 \\rightarrow 0$\n",
    "\n",
    "Число обусловленности невозмущенной матрицы матрицы $\\chi = 2$ (теория)."
   ]
  },
  {
   "cell_type": "code",
   "execution_count": 9,
   "metadata": {},
   "outputs": [
    {
     "name": "stdout",
     "output_type": "stream",
     "text": [
      "[[1.00055879e+00 9.99999989e+02]\n",
      " [2.24978483e-04 2.00012535e+00]]\n",
      "[[ 8.11312458e-01+0.j -9.99999764e+02+0.j]\n",
      " [ 0.00000000e+00+0.j  2.18937168e+00+0.j]]\n",
      "\n",
      "[[9.99451969e-01 1.00000047e+03]\n",
      " [1.42509261e-04 1.99984741e+00]]\n",
      "[[ 8.72986233e-01+0.j -1.00000032e+03+0.j]\n",
      " [ 0.00000000e+00+0.j  2.12631314e+00+0.j]]\n",
      "\n",
      "[[ 9.99048090e-01  1.00000035e+03]\n",
      " [-1.13819484e-05  1.99988765e+00]]\n",
      "[[    1.01055274+0.j -1000.00036409+0.j]\n",
      " [    0.        +0.j     1.988383  +0.j]]\n",
      "\n",
      "[[1.00098946e+00 9.99999576e+02]\n",
      " [1.10135108e-03 1.99969941e+00]]\n",
      "[[ 3.38145654e-01+0.j -9.99998475e+02+0.j]\n",
      " [ 0.00000000e+00+0.j  2.66254322e+00+0.j]]\n",
      "\n",
      "[[ 9.98876627e-01  1.00000036e+03]\n",
      " [-2.04332011e-03  1.99988906e+00]]\n",
      "[[  1.49938284  +1.33896018j 732.07779182+681.21930906j]\n",
      " [  0.          +0.j           1.49938284  -1.33896018j]]\n",
      "\n",
      "[[ 1.00193790e+00  1.00000016e+03]\n",
      " [-1.36586489e-03  1.99889520e+00]]\n",
      "[[   1.50041655  +1.05706393j -426.52345703-904.47571907j]\n",
      " [   0.          +0.j            1.50041655  -1.05706393j]]\n",
      "\n",
      "[[1.00026531e+00 9.99998983e+02]\n",
      " [3.96073391e-04 2.00023715e+00]]\n",
      "[[ 6.96473333e-01+0.j -9.99998586e+02+0.j]\n",
      " [ 0.00000000e+00+0.j  2.30402912e+00+0.j]]\n",
      "\n",
      "[[ 1.00246863e+00  9.99996571e+02]\n",
      " [-2.47095964e-03  2.00334123e+00]]\n",
      "[[  1.50290493  +1.49013915j 947.96501479-318.35755397j]\n",
      " [  0.          +0.j           1.50290493  -1.49013915j]]\n",
      "\n",
      "[[9.92617221e-01 9.99996879e+02]\n",
      " [5.27385033e-03 2.00741743e+00]]\n",
      "[[-8.51851873e-01+0.j -9.99991606e+02+0.j]\n",
      " [ 0.00000000e+00+0.j  3.85188653e+00+0.j]]\n",
      "\n",
      "[[ 9.95893872e-01  1.00001067e+03]\n",
      " [-2.46542097e-03  2.00464083e+00]]\n",
      "[[  1.50026735  +1.48696155j 609.77836279-792.58297279j]\n",
      " [  0.          +0.j           1.50026735  -1.48696155j]]\n",
      "\n",
      "[[ 1.01087387e+00  9.99994361e+02]\n",
      " [-4.63150019e-03  1.98624339e+00]]\n",
      "[[  1.49855863  +2.09610058j 901.62447255-432.49707624j]\n",
      " [  0.          +0.j           1.49855863  -2.09610058j]]\n",
      "\n",
      "[[9.98058185e-01 9.99971705e+02]\n",
      " [1.79881003e-02 2.00876435e+00]]\n",
      "[[  -2.76776809+0.j -999.95371738+0.j]\n",
      " [   0.        +0.j    5.77459062+0.j]]\n",
      "\n",
      "[[9.77391628e-01 9.99952092e+02]\n",
      " [2.50207618e-02 1.97965631e+00]]\n",
      "[[ -3.54847282+0.j 999.92707086+0.j]\n",
      " [  0.        +0.j   6.50552076+0.j]]\n",
      "\n",
      "[[ 1.03446507e+00  1.00000457e+03]\n",
      " [-3.20176090e-02  2.04838793e+00]]\n",
      "[[  1.5414265  +5.63566727j 995.95233846-89.58281841j]\n",
      " [  0.         +0.j           1.5414265  -5.63566727j]]\n",
      "\n",
      "[[1.01694202e+00 9.99977265e+02]\n",
      " [1.87786377e-02 1.99204628e+00]]\n",
      "[[ -2.85623032+0.j 999.9584864 +0.j]\n",
      " [  0.        +0.j   5.86521862+0.j]]\n",
      "\n",
      "[[ 1.08350226e+00  1.00007336e+03]\n",
      " [-3.44834007e-02  2.02901329e+00]]\n",
      "[[   1.55625777  +5.85341205j -373.78173307+927.55908978j]\n",
      " [   0.          +0.j            1.55625777  -5.85341205j]]\n",
      "\n",
      "[[9.29345139e-01 1.00014850e+03]\n",
      " [9.09216724e-02 2.00211164e+00]]\n",
      "[[   -8.08533864+0.j -1000.0575816 +0.j]\n",
      " [    0.        +0.j    11.01679543+0.j]]\n",
      "\n",
      "[[ 1.09182796e+00  9.99981917e+02]\n",
      " [-1.16686334e-01  1.94066482e+00]]\n",
      "[[  1.51624639 +10.79370616j 280.38304692+959.74816826j]\n",
      " [  0.          +0.j           1.51624639 -10.79370616j]]\n",
      "\n",
      "[[ 9.21446808e-01  9.99920257e+02]\n",
      " [-2.39419599e-01  2.20779940e+00]]\n",
      "[[  1.56462311 +15.45919893j 287.70846748+957.38564323j]\n",
      " [  0.          +0.j           1.56462311 -15.45919893j]]\n",
      "\n",
      "[[1.20318921e+00 1.00017608e+03]\n",
      " [4.09589955e-01 2.11403272e+00]]\n",
      "[[ -18.58662268+0.j -999.7664927 +0.j]\n",
      " [   0.        +0.j   21.9038446 +0.j]]\n",
      "\n",
      "[[8.01616782e-01 1.00028216e+03]\n",
      " [1.38681409e-01 1.46488809e+00]]\n",
      "[[  -10.64938404+0.j -1000.14348142+0.j]\n",
      " [    0.        +0.j    12.91588891+0.j]]\n",
      "\n",
      "[[8.37818872e-01 9.99340839e+02]\n",
      " [1.00278289e+00 3.02428242e+00]]\n",
      "[[ -29.7441297 +0.j -998.33805607+0.j]\n",
      " [   0.        +0.j   33.60623099+0.j]]\n",
      "\n",
      "[[1.21717277e+00 1.00026530e+03]\n",
      " [7.61041648e-01 3.37247429e+00]]\n",
      "[[ -25.31685673+0.j -999.50426239+0.j]\n",
      " [   0.        +0.j   29.90650379+0.j]]\n",
      "\n",
      "[[-1.33550930e+00  1.00094148e+03]\n",
      " [-2.12935459e-01  2.40520691e+00]]\n",
      "[[ 5.34848808e-01 +14.47887057j -6.32356090e+02+775.62708829j]\n",
      " [ 0.00000000e+00  +0.j          5.34848808e-01 -14.47887057j]]\n",
      "\n",
      "[[  2.18215359 997.39105786]\n",
      " [  2.38617611   5.66084085]]\n",
      "[[ -44.89423826+0.j -995.00488175+0.j]\n",
      " [   0.        +0.j   52.73723271+0.j]]\n",
      "\n",
      "[[  2.87657377 997.36911611]\n",
      " [ -5.15386939   2.58367797]]\n",
      "[[   2.73012587 +71.69580679j -361.4874808 -924.02271771j]\n",
      " [   0.          +0.j            2.73012587 -71.69580679j]]\n",
      "\n",
      "[[  2.22957558 998.73960307]\n",
      " [ -4.2829001   -4.65605532]]\n",
      "[[ -1.21323987 +65.31193589j 665.70779145-738.79948728j]\n",
      " [  0.          +0.j          -1.21323987 -65.31193589j]]\n",
      "\n",
      "[[   2.30811775 1003.55238956]\n",
      " [  -2.82850078   -2.98575145]]\n",
      "[[-3.38816850e-01 +53.21223969j  9.94971874e+02+107.27206344j]\n",
      " [ 0.00000000e+00  +0.j         -3.38816850e-01 -53.21223969j]]\n",
      "\n",
      "[[   9.75717455 1004.33408666]\n",
      " [  -3.00229408    3.17897633]]\n",
      "[[   6.46807544 +54.8132111j  -923.01600137-388.26549259j]\n",
      " [   0.          +0.j            6.46807544 -54.8132111j ]]\n",
      "\n",
      "[[ -10.67849882 1001.51441325]\n",
      " [ -14.16254994   -9.4237444 ]]\n",
      "[[-10.05112161+119.09493812j 258.17740377-953.00036966j]\n",
      " [  0.          +0.j         -10.05112161-119.09493812j]]\n",
      "\n"
     ]
    }
   ],
   "source": [
    "noise_var = np.logspace(-7, 2, 30, dtype=np.float64)\n",
    "conditional_val = np.empty_like(noise_var)\n",
    "A = np.array([[1, 1000], [0, 2]], dtype=np.float64)\n",
    "for i in range(noise_var.shape[0]):\n",
    "    noise_matr = np.random.randn(2, 2) * np.sqrt(noise_var[i])\n",
    "    A_noised = A + noise_matr\n",
    "    print(A_noised)\n",
    "    R, U = schur(A_noised, output='complex')\n",
    "    print(R)\n",
    "    conditional_val[i] = np.max(np.abs(np.array([R[0, 0], R[1, 1]]))) / np.min(np.abs(np.array([R[0, 0], R[1, 1]])))\n",
    "    print()"
   ]
  },
  {
   "cell_type": "code",
   "execution_count": 10,
   "metadata": {},
   "outputs": [
    {
     "data": {
      "image/png": "[encoded data removed]",
      "text/plain": [
       "<Figure size 800x500 with 1 Axes>"
      ]
     },
     "metadata": {},
     "output_type": "display_data"
    }
   ],
   "source": [
    "fig2 = plt.figure(figsize=[8,5])\n",
    "\n",
    "ax_1 = fig2.add_subplot(111)\n",
    "ax_1.set_title('Обусловленность зашумленной матрицы')\n",
    "ax_1.scatter(noise_var, conditional_val, label='зашумленная матрица')\n",
    "ax_1.plot(noise_var, [2]*noise_var.shape[0], 'r--', label='Исходная матрица')\n",
    "ax_1.set_ylabel(r'$\\chi$')\n",
    "ax_1.set_xlabel(r'Дисперсия шума $\\sigma^2$')\n",
    "ax_1.set_xscale('log')\n",
    "ax_1.set_yscale('log')\n",
    "ax_1.grid()\n",
    "\n",
    "plt.show()"
   ]
  },
  {
   "cell_type": "markdown",
   "metadata": {},
   "source": [
    "### Задание 10"
   ]
  },
  {
   "cell_type": "markdown",
   "metadata": {},
   "source": [
    "*Рассмотрите малое возмущение $\\epsilon$ для матрицы*\n",
    "\n",
    "$$A=\\begin{pmatrix}1&a\\\\\\epsilon&1\\end{pmatrix},$$\n",
    "\n",
    "*где $a$ - параметр. Насколько сильно возущение изменяет собственные значения? Собственные вектора (`scipy.linalg.eig`)?*\n",
    "\n",
    "**Сначала найдем собственные векторы аналитически:**\n",
    "\n",
    "1. Характеристическое урвненине для данной матрицы $det(A-\\lambda I)=0$ примет вид:\n",
    "$$\\lambda^2 - 2\\lambda + (1 - a\\epsilon) = 0$$\n",
    "\n",
    "2. Собственные числа и соответствующие им собственные векторы получаются следующие:\n",
    "$$\\lambda_1 = 1 + \\sqrt{a\\epsilon}, \\qquad v_1=\\left(1, \\sqrt{\\dfrac{\\epsilon}{a}}\\right)^T$$\n",
    "$$\\lambda_2 = 1 - \\sqrt{a\\epsilon}, \\qquad v_2=\\left(-1, \\sqrt{\\dfrac{\\epsilon}{a}}\\right)^T$$\n",
    "\n",
    "3. В случае когда $\\epsilon=0$ матрица не диагонализуемая. У нее 1 ненулевой собственный вектор $v=(1, 0)^T$ и собственное число $\\lambda=1$ кратности 2. Можно найти присоединенный вектор $p$ из уравнения:\n",
    "\n",
    "$$(A-\\lambda I)p=v \\quad \\Rightarrow \\quad p = \\left(0, \\frac{1}{a}\\right)^T$$\n",
    "\n",
    "**Теперь посмотрим численные результаты:**"
   ]
  },
  {
   "cell_type": "code",
   "execution_count": 11,
   "metadata": {},
   "outputs": [
    {
     "name": "stdout",
     "output_type": "stream",
     "text": [
      "[1. 1.]\n",
      "[[ 1.0000000e+00 -1.0000000e+00]\n",
      " [ 0.0000000e+00  4.4408921e-17]]\n"
     ]
    }
   ],
   "source": [
    "a = 5.\n",
    "eps = 0.\n",
    "A = np.array([[1., a], [eps, 1.]], dtype=np.float64)\n",
    "eigenvalues, eigenvectors = np.linalg.eig(A)\n",
    "print(eigenvalues)\n",
    "print(eigenvectors)"
   ]
  },
  {
   "cell_type": "code",
   "execution_count": 12,
   "metadata": {},
   "outputs": [
    {
     "name": "stdout",
     "output_type": "stream",
     "text": [
      "[1.00707107 0.99292893]\n",
      "[1.00141421 0.99858579]\n",
      "1e-05\n",
      "\n",
      "[1.02236068 0.97763932]\n",
      "[1.00447214 0.99552786]\n",
      "0.0001\n",
      "\n",
      "[1.07071068 0.92928932]\n",
      "[1.01414214 0.98585786]\n",
      "0.001\n",
      "\n",
      "[1.2236068 0.7763932]\n",
      "[1.04472136 0.95527864]\n",
      "0.01\n",
      "\n",
      "[1.70710678 0.29289322]\n",
      "[1.14142136 0.85857864]\n",
      "0.1\n",
      "\n",
      "[ 3.23606798 -1.23606798]\n",
      "[1.4472136 0.5527864]\n",
      "1.0\n",
      "\n",
      "[ 8.07106781 -6.07106781]\n",
      "[ 2.41421356 -0.41421356]\n",
      "10.0\n",
      "\n",
      "[ 23.36067977 -21.36067977]\n",
      "[ 5.47213595 -3.47213595]\n",
      "100.0\n",
      "\n"
     ]
    }
   ],
   "source": [
    "eps = np.logspace(-5, 2, 8, dtype=np.float64)\n",
    "eigvals_arr = np.empty(shape=(eps.shape[0], 2), dtype=np.float64)\n",
    "eigvecs_arr = np.empty(shape=(eps.shape[0], 2, 2), dtype=np.float64)\n",
    "eigvals_arr_theory = np.empty(shape=(eps.shape[0], 2), dtype=np.float64)\n",
    "norm_eigvec_err = np.empty(shape=(eps.shape[0], 2), dtype=np.float64)\n",
    "for i in range(eps.shape[0]):\n",
    "    A = np.array([[1., a], [eps[i], 1.]], dtype=np.float64)\n",
    "    eigvals_arr[i], eigvecs_arr[i] = np.linalg.eig(A)\n",
    "    v1 = np.array([1, np.sqrt(eps[i]/a)], dtype=np.float64)\n",
    "    v1 /= np.linalg.norm(v1, 2)\n",
    "    v2 = np.array([-1, np.sqrt(eps[i]/a)], dtype=np.float64)\n",
    "    v2 /= np.linalg.norm(v2, 2)\n",
    "    eigvals_arr_theory[i] = np.array([1 + np.sqrt(eps[i] / a), 1 - np.sqrt(eps[i] / a)], dtype=np.float64)\n",
    "    norm_eigvec_err[i] = np.array([np.linalg.norm(v1-eigvecs_arr[i, :, 0], 2), np.linalg.norm(v2-eigvecs_arr[i, :, 1], 2)], dtype=np.float64)\n",
    "    print(eigvals_arr[i])\n",
    "    print(eigvals_arr_theory[i])\n",
    "    print(eps[i])\n",
    "    print()"
   ]
  },
  {
   "cell_type": "code",
   "execution_count": 13,
   "metadata": {},
   "outputs": [
    {
     "data": {
      "image/png": "[encoded data removed]",
      "text/plain": [
       "<Figure size 1300x400 with 2 Axes>"
      ]
     },
     "metadata": {},
     "output_type": "display_data"
    }
   ],
   "source": [
    "fig3 = plt.figure(figsize=[13,4])\n",
    "\n",
    "ax_1 = fig3.add_subplot(121)\n",
    "ax_1.set_title('Ошибка в собственном числе')\n",
    "ax_1.scatter(eps, eigvals_arr[:, 0], label=r'Numerical $\\lambda_1$')\n",
    "ax_1.scatter(eps, eigvals_arr[:, 1], label=r'Numerical $\\lambda_2$')\n",
    "ax_1.plot(eps, eigvals_arr_theory[:, 0], 'r--', label=r'Theory $\\lambda_1$')\n",
    "ax_1.plot(eps, eigvals_arr_theory[:, 1], 'g--', label=r'Theory $\\lambda_2$')\n",
    "ax_1.plot(eps, [1]*eps.shape[0], 'k--', label=r'Initial $\\lambda$')\n",
    "ax_1.set_xlabel(r'$\\epsilon$ - value')\n",
    "ax_1.set_ylabel('Eigenvalues')\n",
    "ax_1.set_xscale('log')\n",
    "ax_1.legend()\n",
    "ax_1.grid()\n",
    "\n",
    "ax_2 = fig3.add_subplot(122)\n",
    "ax_2.set_title('Квадратичная норма ошибки в собственном векторе')\n",
    "ax_2.scatter(eps, norm_eigvec_err[:, 0], label=r'$v1$')\n",
    "ax_2.scatter(eps, norm_eigvec_err[:, 1], label=r'$v2$')\n",
    "ax_2.set_xlabel(r'$\\epsilon$ - value')\n",
    "ax_2.set_ylabel('2-norm of error')\n",
    "ax_2.set_xscale('log')\n",
    "ax_2.grid()\n",
    "\n",
    "plt.show()"
   ]
  },
  {
   "cell_type": "markdown",
   "metadata": {},
   "source": [
    "### Задание 11"
   ]
  },
  {
   "cell_type": "markdown",
   "metadata": {},
   "source": [
    "*Реализуйте QR алгоритм со сдвигами для симметричной матрицы $A$. Экспериментально проверьте скорость сходимости. Сравните со скорость сходимости степенного метода.*"
   ]
  },
  {
   "cell_type": "code",
   "execution_count": 14,
   "metadata": {},
   "outputs": [
    {
     "name": "stdout",
     "output_type": "stream",
     "text": [
      "A:\n",
      "[[-5 -1  1  2  0]\n",
      " [-1  3  0  3  1]\n",
      " [ 1  0  2 -3 -2]\n",
      " [ 2  3 -3  2 -3]\n",
      " [ 0  1 -2 -3 -7]]\n",
      "R:\n",
      "[[-9.3171  0.     -0.      0.     -0.    ]\n",
      " [ 0.     -5.4899 -0.     -0.      0.    ]\n",
      " [ 0.     -0.      6.5728 -0.      0.    ]\n",
      " [ 0.      0.     -0.      0.7173  0.    ]\n",
      " [ 0.      0.      0.     -0.      2.5169]]\n",
      "\n",
      "U:\n",
      "[[ 0.2844  0.8897 -0.0352 -0.3549  0.0184]\n",
      " [ 0.1833  0.1034 -0.565   0.4271 -0.6738]\n",
      " [-0.2714 -0.0612  0.4305 -0.4514 -0.7304]\n",
      " [-0.3866 -0.1357 -0.7012 -0.5753  0.0973]\n",
      " [-0.8139  0.419   0.0499  0.396   0.052 ]]\n",
      "\n",
      "Проверка A = U@R@U^T:\n",
      "[[-5. -1.  1.  2.  0.]\n",
      " [-1.  3. -0.  3.  1.]\n",
      " [ 1. -0.  2. -3. -2.]\n",
      " [ 2.  3. -3.  2. -3.]\n",
      " [ 0.  1. -2. -3. -7.]]\n"
     ]
    }
   ],
   "source": [
    "A = np.random.randint(low=-9, high=10, size=(5, 5))# + 20*np.eye(n)\n",
    "A = (A + A.T) // 2\n",
    "print(\"A:\")\n",
    "print(A)\n",
    "R, U = qr_algorithm_with_shifts(A, max_iter=100)\n",
    "print(\"R:\")\n",
    "print(np.round(R, 4))\n",
    "print(\"\\nU:\")\n",
    "print(np.round(U, 4))\n",
    "print(\"\\nПроверка A = U@R@U^T:\")\n",
    "print(np.round(U @ R @ U.T, 4))"
   ]
  },
  {
   "cell_type": "code",
   "execution_count": 15,
   "metadata": {},
   "outputs": [],
   "source": [
    "num_iter = np.arange(1, 51, 1, dtype=np.int32)\n",
    "# num_iter = np.array([10, 50, 200], dtype=np.int32)\n",
    "A = np.random.randint(low=-9, high=10, size=(10, 10))# + 20*np.eye(4)\n",
    "A = (A + A.T) // 2\n",
    "# R_th, Q_th = schur(A)\n",
    "power_err = np.empty(shape=num_iter.shape, dtype=np.float64)\n",
    "shiftqr_err = np.empty(shape=num_iter.shape, dtype=np.float64)\n",
    "for i in range(num_iter.shape[0]):\n",
    "    R_pow, U_pow = schur_decomposition_power_method(A, max_iter=num_iter[i], tol=0.0)\n",
    "    R_sqr, U_sqr = qr_algorithm_with_shifts(A, max_iter=num_iter[i])\n",
    "    power_err[i] = norm(U_pow @ R_pow @ U_pow.T - A, ord='fro')\n",
    "    shiftqr_err[i] = norm(U_sqr @ R_sqr @ U_sqr.T - A, ord='fro')"
   ]
  },
  {
   "cell_type": "code",
   "execution_count": 16,
   "metadata": {},
   "outputs": [
    {
     "data": {
      "image/png": "[encoded data removed]",
      "text/plain": [
       "<Figure size 800x500 with 1 Axes>"
      ]
     },
     "metadata": {},
     "output_type": "display_data"
    }
   ],
   "source": [
    "fig4 = plt.figure(figsize=[8,5])\n",
    "\n",
    "ax_1 = fig4.add_subplot(111)\n",
    "ax_1.set_title('Сходимость метода')\n",
    "ax_1.plot(num_iter, power_err, label='Power iterations')\n",
    "ax_1.plot(num_iter, shiftqr_err, 'r--', label='QR with shifts')\n",
    "ax_1.set_xlabel(r'Num of iterations')\n",
    "ax_1.set_ylabel(r'$\\|A - URU^T\\|_{Fro}$')\n",
    "# ax_1.set_xscale('log')\n",
    "# ax_1.set_yscale('log')\n",
    "ax_1.grid()\n",
    "ax_1.legend()\n",
    "\n",
    "plt.show()"
   ]
  },
  {
   "cell_type": "markdown",
   "metadata": {},
   "source": [
    "### Задание 13"
   ]
  },
  {
   "cell_type": "markdown",
   "metadata": {},
   "source": [
    "*Предложите и реализуйте метод вычисления [сингулярного (SVD) разложения](https://en.wikipedia.org/wiki/Singular_value_decomposition), используя разложение Шура. Постарайтесь избежать вычисления матриц $AA^T$ и $A^TA$.*"
   ]
  },
  {
   "cell_type": "markdown",
   "metadata": {},
   "source": [
    "Голуб раздел 8.3 - Вычисление SVD; 8.3.2 - SVD алгоритм"
   ]
  },
  {
   "cell_type": "code",
   "execution_count": null,
   "metadata": {},
   "outputs": [],
   "source": [
    "def svd_via_schur2(A: np.ndarray):\n",
    "    m, n = A.shape\n",
    "\n",
    "    C = np.zeros((m+n, m+n))\n",
    "    C[:m, m:] = A\n",
    "    C[m:, :m] = A.T\n",
    "    \n",
    "    S_full, Q = schur(C)\n",
    "    col_idx = np.argsort(np.diag(S_full))[::-1]\n",
    "    s_vals = np.diag(S_full)[col_idx[:min(n, m)]]\n",
    "    S = np.zeros(shape=(m, n))\n",
    "    S[:min(m, n), :min(m, n)] = np.diag(s_vals)\n",
    "    singular_vecs = Q[:, col_idx[:-min(n, m)]]\n",
    "    U = singular_vecs[:m, :m]\n",
    "    U /= np.linalg.norm(singular_vecs[:m, :m], axis=0)\n",
    "    V = singular_vecs[m:, :n]\n",
    "    V /= np.linalg.norm(singular_vecs[m:, :n], axis=0)\n",
    "    \n",
    "    return U, S, V.T, s_vals"
   ]
  },
  {
   "cell_type": "code",
   "execution_count": 52,
   "metadata": {},
   "outputs": [
    {
     "name": "stdout",
     "output_type": "stream",
     "text": [
      "Исходная матрица:\n",
      " [[ 1  6 11]\n",
      " [ 2  7 12]\n",
      " [ 3  8 13]\n",
      " [ 4  9 14]\n",
      " [ 5 10 15]]\n",
      "Матрица U:\n",
      " [[-0.355 -0.689  0.363 -0.439  0.032]\n",
      " [-0.399 -0.376 -0.49   0.073 -0.579]\n",
      " [-0.443 -0.062 -0.333  0.597  0.693]\n",
      " [-0.487  0.251  0.683  0.343  0.22 ]\n",
      " [-0.531  0.564 -0.223 -0.574 -0.367]]\n",
      "Матрица Sigma:\n",
      " [[35.127  0.     0.   ]\n",
      " [ 0.     2.465  0.   ]\n",
      " [ 0.     0.     0.   ]\n",
      " [ 0.     0.     0.   ]\n",
      " [ 0.     0.     0.   ]]\n",
      "Матрица V:\n",
      " [[-0.202  0.89   0.408]\n",
      " [-0.517  0.257 -0.816]\n",
      " [-0.832 -0.376  0.408]]\n",
      "Проверка U@S@Vt:\n",
      " [[ 1.  6. 11.]\n",
      " [ 2.  7. 12.]\n",
      " [ 3.  8. 13.]\n",
      " [ 4.  9. 14.]\n",
      " [ 5. 10. 15.]]\n"
     ]
    }
   ],
   "source": [
    "A = np.array([[1, 6, 11],\n",
    "            [2, 7, 12],\n",
    "            [3, 8, 13],\n",
    "            [4, 9, 14],\n",
    "            [5, 10, 15]])\n",
    "\n",
    "U, S, Vt, s_vals = svd_via_schur2(A)\n",
    "# print(\"Сингулярные значения:\\n\", np.round(s_vals, 3))\n",
    "print(\"Исходная матрица:\\n\", A)\n",
    "print(\"Матрица U:\\n\", np.round(U, 3))\n",
    "print(\"Матрица Sigma:\\n\", np.round(S, 3))\n",
    "print(\"Матрица V:\\n\", np.round(Vt.T, 3))\n",
    "print(\"Проверка U@S@Vt:\\n\", U@S@Vt)"
   ]
  },
  {
   "cell_type": "code",
   "execution_count": 54,
   "metadata": {},
   "outputs": [
    {
     "name": "stdout",
     "output_type": "stream",
     "text": [
      "Исходная матрица:\n",
      " [[ 1  6]\n",
      " [ 2  7]\n",
      " [ 3  8]\n",
      " [ 4  9]\n",
      " [ 5 10]]\n",
      "Матрица U:\n",
      " [[ 0.304  0.712 -0.098  0.011 -0.625]\n",
      " [ 0.371  0.403  0.615 -0.172  0.541]\n",
      " [ 0.437  0.094 -0.52   0.6    0.412]\n",
      " [ 0.504 -0.215 -0.412 -0.726  0.052]\n",
      " [ 0.57  -0.524  0.415  0.288 -0.38 ]]\n",
      "Матрица Sigma:\n",
      " [[19.538  0.   ]\n",
      " [ 0.     1.81 ]\n",
      " [ 0.     0.   ]\n",
      " [ 0.     0.   ]\n",
      " [ 0.     0.   ]]\n",
      "Матрица V:\n",
      " [[ 0.37  -0.929]\n",
      " [ 0.929  0.37 ]]\n",
      "Проверка U@S@Vt:\n",
      " [[ 1.  6.]\n",
      " [ 2.  7.]\n",
      " [ 3.  8.]\n",
      " [ 4.  9.]\n",
      " [ 5. 10.]]\n"
     ]
    }
   ],
   "source": [
    "A = np.array([[1, 6],\n",
    "            [2, 7],\n",
    "            [3, 8],\n",
    "            [4, 9],\n",
    "            [5, 10]])\n",
    "\n",
    "U, S, Vt, s_vals = svd_via_schur2(A)\n",
    "# print(\"Сингулярные значения:\\n\", np.round(s_vals, 3))\n",
    "print(\"Исходная матрица:\\n\", A)\n",
    "print(\"Матрица U:\\n\", np.round(U, 3))\n",
    "print(\"Матрица Sigma:\\n\", np.round(S, 3))\n",
    "print(\"Матрица V:\\n\", np.round(Vt.T, 3))\n",
    "print(\"Проверка U@S@Vt:\\n\", U@S@Vt)"
   ]
  },
  {
   "cell_type": "code",
   "execution_count": 56,
   "metadata": {},
   "outputs": [
    {
     "name": "stdout",
     "output_type": "stream",
     "text": [
      "Исходная матрица:\n",
      " [[ 1  6 11]\n",
      " [ 2  7 12]\n",
      " [ 3  8 15]]\n",
      "Матрица U:\n",
      " [[-0.491 -0.799  0.348]\n",
      " [-0.55  -0.026 -0.835]\n",
      " [-0.676  0.601  0.426]]\n",
      "Матрица Sigma:\n",
      " [[25.532  0.     0.   ]\n",
      " [ 0.     0.97   0.   ]\n",
      " [ 0.     0.     0.404]]\n",
      "Матрица V:\n",
      " [[-0.142  0.984 -0.108]\n",
      " [-0.478 -0.163 -0.863]\n",
      " [-0.867 -0.071  0.493]]\n",
      "Проверка U@S@Vt:\n",
      " [[ 1.  6. 11.]\n",
      " [ 2.  7. 12.]\n",
      " [ 3.  8. 15.]]\n"
     ]
    }
   ],
   "source": [
    "A = np.array([[1, 6, 11],\n",
    "            [2, 7, 12],\n",
    "            [3, 8, 15]])\n",
    "\n",
    "U, S, Vt, s_vals = svd_via_schur2(A)\n",
    "# print(\"Сингулярные значения:\\n\", np.round(s_vals, 3))\n",
    "print(\"Исходная матрица:\\n\", A)\n",
    "print(\"Матрица U:\\n\", np.round(U, 3))\n",
    "print(\"Матрица Sigma:\\n\", np.round(S, 3))\n",
    "print(\"Матрица V:\\n\", np.round(Vt.T, 3))\n",
    "print(\"Проверка U@S@Vt:\\n\", U@S@Vt)"
   ]
  },
  {
   "cell_type": "code",
   "execution_count": 57,
   "metadata": {},
   "outputs": [
    {
     "name": "stdout",
     "output_type": "stream",
     "text": [
      "Исходная матрица:\n",
      " [[ 1  6 11  5]\n",
      " [ 2  7 12  1]\n",
      " [ 3  8 15  3]]\n",
      "Матрица U:\n",
      " [[ 0.51  -0.813  0.279]\n",
      " [ 0.536  0.555  0.636]\n",
      " [ 0.672  0.175 -0.719]]\n",
      "Матрица Sigma:\n",
      " [[26.031  0.     0.     0.   ]\n",
      " [ 0.     3.142  0.     0.   ]\n",
      " [ 0.     0.     0.728  0.   ]]\n",
      "Матрица V:\n",
      " [[ 0.138  0.261 -0.832  0.47 ]\n",
      " [ 0.468  0.128  0.517  0.705]\n",
      " [ 0.85   0.106 -0.11  -0.504]\n",
      " [ 0.196 -0.951 -0.171  0.168]]\n",
      "Проверка U@S@Vt:\n",
      " [[ 1.  6. 11.  5.]\n",
      " [ 2.  7. 12.  1.]\n",
      " [ 3.  8. 15.  3.]]\n"
     ]
    }
   ],
   "source": [
    "A = np.array([[1, 6, 11, 5],\n",
    "            [2, 7, 12, 1],\n",
    "            [3, 8, 15, 3]])\n",
    "\n",
    "U, S, Vt, s_vals = svd_via_schur2(A)\n",
    "# print(\"Сингулярные значения:\\n\", np.round(s_vals, 3))\n",
    "print(\"Исходная матрица:\\n\", A)\n",
    "print(\"Матрица U:\\n\", np.round(U, 3))\n",
    "print(\"Матрица Sigma:\\n\", np.round(S, 3))\n",
    "print(\"Матрица V:\\n\", np.round(Vt.T, 3))\n",
    "print(\"Проверка U@S@Vt:\\n\", U@S@Vt)"
   ]
  }
 ],
 "metadata": {
  "kernelspec": {
   "display_name": "Python 3",
   "language": "python",
   "name": "python3"
  },
  "language_info": {
   "codemirror_mode": {
    "name": "ipython",
    "version": 3
   },
   "file_extension": ".py",
   "mimetype": "text/x-python",
   "name": "python",
   "nbconvert_exporter": "python",
   "pygments_lexer": "ipython3",
   "version": "3.12.7"
  },
  "orig_nbformat": 2
 },
 "nbformat": 4,
 "nbformat_minor": 2
}
