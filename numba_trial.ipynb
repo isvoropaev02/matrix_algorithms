{
 "cells": [
  {
   "cell_type": "code",
   "execution_count": 8,
   "metadata": {},
   "outputs": [],
   "source": [
    "import numpy as np\n",
    "import numba as nb"
   ]
  },
  {
   "cell_type": "code",
   "execution_count": 9,
   "metadata": {},
   "outputs": [],
   "source": [
    "# Для примера создадим функцию, которая складывает вектора.\n",
    "@nb.njit(nb.int64[:](nb.int64[:],nb.int64[:], nb.int64[:]))\n",
    "def add3(a, b, c):\n",
    "    d = np.empty_like(a)\n",
    "    for n in range(a.shape[0]):\n",
    "        d[n] = a[n] + b[n] + c[n]\n",
    "    return d"
   ]
  },
  {
   "cell_type": "code",
   "execution_count": 10,
   "metadata": {},
   "outputs": [],
   "source": [
    "a = np.arange(1000000)\n",
    "b = a*a\n",
    "c = a.copy()"
   ]
  },
  {
   "cell_type": "code",
   "execution_count": 19,
   "metadata": {},
   "outputs": [
    {
     "name": "stdout",
     "output_type": "stream",
     "text": [
      "CPU times: total: 0 ns\n",
      "Wall time: 7.81 ms\n",
      "CPU times: total: 31.2 ms\n",
      "Wall time: 13 ms\n"
     ]
    }
   ],
   "source": [
    "%time d = add3(a, b, c)\n",
    "%time d = a+b+c"
   ]
  }
 ],
 "metadata": {
  "kernelspec": {
   "display_name": "Python 3",
   "language": "python",
   "name": "python3"
  },
  "language_info": {
   "codemirror_mode": {
    "name": "ipython",
    "version": 3
   },
   "file_extension": ".py",
   "mimetype": "text/x-python",
   "name": "python",
   "nbconvert_exporter": "python",
   "pygments_lexer": "ipython3",
   "version": "3.12.7"
  }
 },
 "nbformat": 4,
 "nbformat_minor": 2
}
